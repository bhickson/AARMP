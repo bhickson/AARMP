{
 "cells": [
  {
   "cell_type": "code",
   "execution_count": null,
   "metadata": {
    "collapsed": true
   },
   "outputs": [],
   "source": [
    "import os\n",
    "import geopandas as gpd\n",
    "import pandas as pd\n",
    "import RSAC_RegressionModel\n",
    "import gdal\n",
    "import Utilities as utils\n",
    "from datetime import datetime\n",
    "import rasterio as rio\n",
    "import numpy as np"
   ]
  },
  {
   "cell_type": "code",
   "execution_count": null,
   "metadata": {
    "collapsed": true
   },
   "outputs": [],
   "source": [
    "sample_naip = os.path.abspath(r\"Q:\\Arid Riparian Project\\Data\\NAIP_2015_Compressed\\m_3210925_sw_12_1_20150613.tif\")"
   ]
  },
  {
   "cell_type": "code",
   "execution_count": null,
   "metadata": {
    "collapsed": true
   },
   "outputs": [],
   "source": [
    "def getSubSetSlope(naip_path, slope_file, overwrite=False):\n",
    "    ssl_start = datetime.now()\n",
    "    ofile = \"SlopeDeg_\" + os.path.basename(naip_path)\n",
    "\n",
    "    slope_file = os.path.abspath(slope_file)\n",
    "    \n",
    "    odir = utils.getParentDir(slope_file)\n",
    "    \n",
    "    slope_opath = os.path.join(odir, ofile)\n",
    "    \n",
    "\n",
    "    print(slope_opath)\n",
    "    if not os.path.exists(slope_opath) or overwrite:\n",
    "        start = datetime.now()\n",
    "        reference_f = gdal.Open(naip_path)\n",
    "        geo_transform = reference_f.GetGeoTransform()\n",
    "        resx = geo_transform[1]\n",
    "        resy = geo_transform[5]\n",
    "        proj = reference_f.GetProjectionRef()\n",
    "        minx = geo_transform[0]\n",
    "        maxy = geo_transform[3]\n",
    "        maxx = minx + (resx * reference_f.RasterXSize)\n",
    "        miny = maxy + (resy * reference_f.RasterYSize)\n",
    "\n",
    "        # build slope qquad from naip extent\n",
    "\n",
    "        resampletype = \"bilinear\"\n",
    "        \n",
    "        gdal_warp = \"gdalwarp -overwrite -tap -r %s -t_srs %s -tr %s %s -te_srs %s -te %s %s %s %s %s %s\" % (\n",
    "            resampletype, proj, resx, resy, proj, str(minx), str(miny), str(maxx), str(maxy), slope_file,\n",
    "            slope_opath)\n",
    "        #logger.info(\"\\tExecuting gdal_warp operation on %s for footprint of naip file %s\" % (slope_file, naip_path))\n",
    "        print(\"Executing gdal_warp operation on %s for footprint of naip file %s\" % (slope_file, naip_path))\n",
    "\n",
    "        os.system(gdal_warp)\n",
    "        #logger.info(\"\\tFinished qquad for %s landsat in %s\" % (slope_file, str(datetime.now() - ssl_start)))\n",
    "\n",
    "    with rio.open(slope_opath) as s_ras:\n",
    "        s_ras_array = s_ras.read()\n",
    "\n",
    "    # multiply by 100 conserve precision when reducing to int16 (e.g. 40.0215 degrees -> 4021)\n",
    "    s_ras_array *= 100\n",
    "\n",
    "    print(\"Bringing in slope array from %s ...\" % slope_opath)\n",
    "    return s_ras_array.astype(np.int16)"
   ]
  },
  {
   "cell_type": "code",
   "execution_count": null,
   "metadata": {
    "collapsed": false
   },
   "outputs": [],
   "source": [
    "slope_array = getSubSetSlope(sample_naip, \"../Data/Slope/Slope-Degrees-AZ.tif\")"
   ]
  },
  {
   "cell_type": "code",
   "execution_count": null,
   "metadata": {
    "collapsed": false
   },
   "outputs": [],
   "source": [
    "slope_array.shape"
   ]
  },
  {
   "cell_type": "code",
   "execution_count": null,
   "metadata": {
    "collapsed": true
   },
   "outputs": [],
   "source": [
    "image_stack = os.path.abspath(r\"M:\\m_3210925_sw_12_1_20150613_TrainingStack.tif\")"
   ]
  },
  {
   "cell_type": "code",
   "execution_count": null,
   "metadata": {
    "collapsed": false
   },
   "outputs": [],
   "source": [
    "with rio.open(image_stack) as iras:\n",
    "    print(iras.count)\n",
    "    kwargs = iras.profile"
   ]
  },
  {
   "cell_type": "code",
   "execution_count": null,
   "metadata": {
    "collapsed": true
   },
   "outputs": [],
   "source": [
    "kwargs.update(count=23)"
   ]
  },
  {
   "cell_type": "code",
   "execution_count": null,
   "metadata": {
    "collapsed": false
   },
   "outputs": [],
   "source": [
    "kwargs"
   ]
  },
  {
   "cell_type": "code",
   "execution_count": null,
   "metadata": {
    "collapsed": false
   },
   "outputs": [],
   "source": [
    "start = datetime.now()\n",
    "# Read each layer and write it to stack\n",
    "with rio.open(image_stack) as oldras:\n",
    "    kwargs = oldras.profile\n",
    "    kwargs.update(count=23)\n",
    "    array = oldras.read()\n",
    "    out_array = np.concatenate((array, slope_array),axis=0)\n",
    "    \n",
    "    \n",
    "    with rio.open('../stack.tif', 'w', **kwargs) as dst:\n",
    "        dst.write(out_array)\n",
    "        \n",
    "print(datetime.now() - start)"
   ]
  },
  {
   "cell_type": "code",
   "execution_count": null,
   "metadata": {
    "collapsed": false
   },
   "outputs": [],
   "source": [
    "slope_array.shape"
   ]
  },
  {
   "cell_type": "code",
   "execution_count": null,
   "metadata": {
    "collapsed": false
   },
   "outputs": [],
   "source": [
    "new_array = np.concatenate((array, slope_array),axis=0)"
   ]
  },
  {
   "cell_type": "code",
   "execution_count": null,
   "metadata": {
    "collapsed": false
   },
   "outputs": [],
   "source": [
    "del new_array"
   ]
  },
  {
   "cell_type": "code",
   "execution_count": null,
   "metadata": {
    "collapsed": false
   },
   "outputs": [],
   "source": [
    "with rio.open(image_stack, \"r+\") as oras:\n",
    "    print(oras.profile)\n",
    "    oras.profile.update(count=23)\n",
    "    oras.write_band(23, slope_array)"
   ]
  },
  {
   "cell_type": "code",
   "execution_count": null,
   "metadata": {
    "collapsed": true
   },
   "outputs": [],
   "source": [
    "with rio.open(image_stack"
   ]
  }
 ],
 "metadata": {
  "anaconda-cloud": {},
  "kernelspec": {
   "display_name": "Python [conda env:Anaconda3]",
   "language": "python",
   "name": "conda-env-Anaconda3-py"
  },
  "language_info": {
   "codemirror_mode": {
    "name": "ipython",
    "version": 3
   },
   "file_extension": ".py",
   "mimetype": "text/x-python",
   "name": "python",
   "nbconvert_exporter": "python",
   "pygments_lexer": "ipython3",
   "version": "3.5.5"
  }
 },
 "nbformat": 4,
 "nbformat_minor": 0
}
