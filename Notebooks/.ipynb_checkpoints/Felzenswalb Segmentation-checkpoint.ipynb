{
 "cells": [
  {
   "cell_type": "code",
   "execution_count": 34,
   "metadata": {
    "collapsed": false
   },
   "outputs": [],
   "source": [
    "from joblib import Parallel\n",
    "\n",
    "import os\n",
    "import rasterio as rio\n",
    "import numpy as np\n",
    "\n",
    "from datetime import datetime\n",
    "from skimage.segmentation import felzenszwalb\n",
    "\n",
    "from skimage import measure\n",
    "from skimage.measure import label\n",
    "\n",
    "import geopandas as gpd\n",
    "\n",
    "import gdal\n",
    "import logging as logger\n",
    "\n",
    "from joblib import Parallel, delayed"
   ]
  },
  {
   "cell_type": "code",
   "execution_count": 47,
   "metadata": {
    "collapsed": false
   },
   "outputs": [
    {
     "data": {
      "text/plain": [
       "iinfo(min=-2147483648, max=2147483647, dtype=int32)"
      ]
     },
     "execution_count": 47,
     "metadata": {},
     "output_type": "execute_result"
    }
   ],
   "source": [
    "np.iinfo(np.int32)"
   ]
  },
  {
   "cell_type": "code",
   "execution_count": 59,
   "metadata": {
    "collapsed": false
   },
   "outputs": [],
   "source": [
    "def segmentImage(loc_NAIPFile, seg_img_dir, overwrite=False):\n",
    "    print(\"\\tStarting segmentation of NAIP File: %s\" % loc_NAIPFile)\n",
    "\n",
    "    ofile_name = os.path.basename(loc_NAIPFile)[:-4] + \"_Segmented.tif\"\n",
    "\n",
    "    o_file = os.path.join(seg_img_dir, ofile_name)\n",
    "\n",
    "    if not os.path.exists(o_file) or overwrite:\n",
    "        seg_start = datetime.now()\n",
    "        #time.sleep(1)\n",
    "        start = datetime.now()\n",
    "        print(\"Segmented file doesn't exist or overwrite set. Creating at %s\" % o_file)\n",
    "\n",
    "        with rio.open(loc_NAIPFile) as inras:\n",
    "            prof = inras.profile\n",
    "\n",
    "            #initialize = rio.open(o_file, 'w', **prof).close()  # prevent parallel process from working on same file\n",
    "\n",
    "            ras_array = inras.read()\n",
    "\n",
    "            ras_array = np.moveaxis(ras_array, 0, -1)  # scikit-image wants array in (height, width, bands). Rasterio returns (bands, height, width)\n",
    "            bands_array_seg = segmentArray(ras_array)\n",
    "        \n",
    "        #print(\"DTYPE: \", bands_array_seg.dtype)\n",
    "        \n",
    "        #print(\"SHAPE: \", bands_array_seg.shape)\n",
    "\n",
    "        #return bands_array_seg.astype(np.int32)\n",
    "    \n",
    "        prof.update(\n",
    "            count=1,\n",
    "            dtype=np.int32\n",
    "        )\n",
    "\n",
    "        with rio.open(o_file, 'w', **prof) as oras:\n",
    "            oras.write_band(1, bands_array_seg.astype(np.int32))\n",
    "\n",
    "        seg_end = datetime.now()\n",
    "        print(\"\\tSegmentation took {}\".format(seg_end-seg_start))\n",
    "\n",
    "    with rio.open(o_file) as ras:\n",
    "        seg_array = ras.read(1).astype(np.int32)\n",
    "\n",
    "\n",
    "    return seg_array\n",
    "\n",
    "\n",
    "def segmentArray(image_array, seg_type=\"felzenswalb\"):\n",
    "    print(\"Beginning image segmentation on array\")\n",
    "    seg_start = datetime.now()\n",
    "    if seg_type == \"felzenswalb\":\n",
    "        segments_fz = felzenszwalb(image_array, scale=25, sigma=0.5, min_size=3, multichannel=True)\n",
    "    else:\n",
    "        print(\"Unknown segmentation algorithm. Exiting...\")\n",
    "        raise ValueError\n",
    "\n",
    "    seg_end = datetime.now()\n",
    "    print(\n",
    "        \"Felzenszwalb number of segments: {}. \\n\\t{} elapsed.\".format(len(np.unique(segments_fz)), seg_end - seg_start))\n",
    "\n",
    "    return segments_fz\n",
    "\n",
    "\n",
    "def calcSegmentMean(labeled_array, regs, in_band):\n",
    "    mean_start = datetime.now()\n",
    "    # label_im = label(segments, connectivity=1) + 1\n",
    "    #regions = measure.regionprops(labeled_array.astype(np.int64), intensity_image=in_band)\n",
    "\n",
    "    def loopRegions(region, in_array):\n",
    "        #for r in regions:\n",
    "        segment = region.label\n",
    "        bbox = region.bbox\n",
    "        min_row, max_row, min_col, max_col = bbox\n",
    "\n",
    "\n",
    "        sub_array = in_array[min_row:min_col, max_row:max_col]\n",
    "        #print(sub_array)\n",
    "\n",
    "        sub_array[sub_array == segment] = r.mean_intensity\n",
    "        #print(sub_array)\n",
    "\n",
    "        in_array[min_row:min_col, max_row:max_col] = sub_array\n",
    "\n",
    "        return in_array\n",
    "    \n",
    "    print(\"\\tBeginning mean calculation on segments...\")\n",
    "    mean_array = np.copy(labeled_array)\n",
    "    mean_array = Parallel(n_jobs=4)(delayed(loopRegions)(r, mean_array) for r in regs)\n",
    "    \"\"\"\n",
    "    for r in regs:\n",
    "        segment = r.label\n",
    "        bbox = r.bbox\n",
    "        min_row, max_row, min_col, max_col = bbox\n",
    "\n",
    "        sub_array = mean_array[min_row:min_col, max_row:max_col]\n",
    "        # print(sub_array)\n",
    "\n",
    "        sub_array[sub_array == segment] = r.mean_intensity\n",
    "        # print(sub_array)\n",
    "\n",
    "        mean_array[min_row:min_col, max_row:max_col] = sub_array\n",
    "    \"\"\"\n",
    "    print(\"\\t...Mean calculation complete.\\n\\t{} elapsed.\".format(datetime.now() - mean_start))\n",
    "\n",
    "    return mean_array\n",
    "\n",
    "\n",
    "\n",
    "def vegIndexCalc(naip_array_list, indicies):\n",
    "    print(\"Beginning VegIndexCalcs\")\n",
    "    bandRed = naip_array_list[0].astype(float)\n",
    "    bandGreen = naip_array_list[1].astype(float)\n",
    "    bandBlue = naip_array_list[2].astype(float)\n",
    "    bandNIR = naip_array_list[3].astype(float)\n",
    "\n",
    "    # IMPORTANT: Because of the soil line value in the SAVI indicies,\n",
    "    #  all band value must be normalized between 0 and 1.\n",
    "    bandRed /= 255.0\n",
    "    bandNIR /= 255.0\n",
    "    bandBlue /= 255.0\n",
    "\n",
    "    # Allow division by zero\n",
    "    np.seterr(divide='ignore', invalid='ignore')\n",
    "\n",
    "    vi_calcs = {}\n",
    "    for veg_index in indicies:\n",
    "\n",
    "        if veg_index == \"NDVI\":\n",
    "            vi = (bandNIR - bandRed) / (bandNIR + bandRed)\n",
    "\n",
    "        elif veg_index == \"SAVI\":\n",
    "            l = 0.5\n",
    "            vi = ((bandNIR - bandRed) / (bandNIR + bandRed + l)) * (1 + l)\n",
    "\n",
    "        elif veg_index == \"MSAVI2\":\n",
    "            vi = ((2 * bandNIR + 1) - np.sqrt(np.square(2 * bandNIR + 1) - (8 * (bandNIR - bandRed)))) / 2\n",
    "\n",
    "        elif veg_index == \"EVI2\":\n",
    "            g = 2.5  # gain factor\n",
    "            l = 1.0  # soil adjustment factor\n",
    "            c_one = 6.0  # coefficient\n",
    "            c_two = 7.5  # coefficient\n",
    "            #vi = 2.5 * ((bandNIR - bandRed) / (bandNIR + (2.4 * bandRed) + 1))\n",
    "            vi = g * ((bandNIR - bandRed) / ((bandNIR + c_one) * (bandRed - c_two) * (bandBlue + l)))\n",
    "\n",
    "        elif veg_index == \"OSAVI\":\n",
    "            vi = (bandNIR - bandRed) / (bandNIR + bandRed + 0.16)\n",
    "\n",
    "        vi_calcs[veg_index] = vi * 1000  # multiply by 1000 so we can convert to int16 later without loosing precision\n",
    "\n",
    "        del vi\n",
    "\n",
    "    return vi_calcs\n",
    "\n",
    "\n",
    "def getSubSetLandsat(naip_path, landsat_file, opath, overwrite=False):\n",
    "    ssl_start = datetime.now()\n",
    "    ofile = \"Landsat8_\" + os.path.basename(naip_path)\n",
    "\n",
    "    landsat_opath = os.path.join(opath, ofile)\n",
    "\n",
    "    if not os.path.exists(landsat_opath) or overwrite:\n",
    "        start = datetime.now()\n",
    "        reference_f = gdal.Open(naip_path)\n",
    "        geo_transform = reference_f.GetGeoTransform()\n",
    "        resx = geo_transform[1]\n",
    "        resy = geo_transform[5]\n",
    "        proj = reference_f.GetProjectionRef()\n",
    "        minx = geo_transform[0]\n",
    "        maxy = geo_transform[3]\n",
    "        maxx = minx + (resx * reference_f.RasterXSize)\n",
    "        miny = maxy + (resy * reference_f.RasterYSize)\n",
    "\n",
    "        # build landsat tile from naip extent\n",
    "\n",
    "        if \"ndsi\" in opath.lower() or \"ndwi\" in opath.lower():\n",
    "            resampletype = \"bilinear\"\n",
    "        else:\n",
    "            resampletype = \"bilinear\"\n",
    "            # resampletype = \"near\"\n",
    "\n",
    "        gdal_warp = \"gdalwarp -overwrite -tap -r %s -t_srs %s -tr %s %s -te_srs %s -te %s %s %s %s %s %s\" % (\n",
    "            resampletype, proj, resx, resy, proj, str(minx), str(miny), str(maxx), str(maxy), landsat_file,\n",
    "            landsat_opath)\n",
    "        logger.info(\"Executing gdal_warp operation on %s for footprint of naip file %s\" % (landsat_file, naip_path))\n",
    "        os.system(gdal_warp)\n",
    "\n",
    "        logger.info(\"\\tFinished qquad for %s landsat in %s\" % (landsat_file, str(datetime.now() - ssl_start)))\n",
    "\n",
    "    with rio.open(landsat_opath) as lras:\n",
    "        lras_array = lras.read()\n",
    "\n",
    "    if \"ndsi\" in opath.lower() or \"ndwi\" in opath.lower():\n",
    "        lras_array = lras_array * 1000\n",
    "\n",
    "    return lras_array.astype(np.int16)\n",
    "\n",
    "\n",
    "def compoundArrays(array_stack, tiff_tags, arrays_dict):\n",
    "    for name, array in arrays_dict.items():\n",
    "        tiff_tags[len(tiff_tags) + 1] = name\n",
    "\n",
    "        array_stack.append(array.astype(np.int16))\n",
    "\n",
    "    return array_stack, tiff_tags"
   ]
  },
  {
   "cell_type": "code",
   "execution_count": null,
   "metadata": {
    "collapsed": false
   },
   "outputs": [],
   "source": [
    "\"\"\"\n",
    "start = datetime.now()\n",
    "\n",
    "seg_mean_band_arrays = []\n",
    "\n",
    "with rio.open(in_naip) as ras:\n",
    "    prof = ras.profile\n",
    "    n_bands = prof[\"count\"]\n",
    "    for b in range(1, n_bands+1):\n",
    "        print(b)\n",
    "        if b == 1:\n",
    "            ras.update_tags(b,NAME = \"RED\")\n",
    "        \n",
    "        band_array = ras.read(b)\n",
    "       \n",
    "        band_array_seg = segmentImage(band_array)\n",
    "\n",
    "        # Write out segmented image\n",
    "        #prof.update(\n",
    "        #    dtype=rio.uint32,\n",
    "        #    count=1\n",
    "        #)\n",
    "        #out_seg = in_naip[:-4] + \"_fzseg.tif\n",
    "        #with rio.open(r\"Q:/AARMP_TestBed/NAIP/m_3211042_nw_12_1_20150530_band1_fz_segs.tif\", 'w', **prof) as outras:\n",
    "        #    outras.write_band(1, band_array_seg.astype(rio.uint32))\n",
    "\n",
    "        output_band_array = calcSegmentMean(in_band=band_array, segments=band_array_seg)\n",
    "\n",
    "        seg_mean_band_arrays.append(output_band_array)\n",
    "\n",
    "#print(seg_mean_band_arrays)\n",
    "veg_arrays_dict = vegIndexCalc(seg_mean_band_arrays, veg_indicies)\n",
    "\n",
    "for vi_name in veg_indicies:\n",
    "    seg_mean_band_arrays.append(veg_arrays_dict[vi_name])\n",
    "\"\"\""
   ]
  },
  {
   "cell_type": "code",
   "execution_count": null,
   "metadata": {
    "collapsed": false
   },
   "outputs": [],
   "source": []
  },
  {
   "cell_type": "code",
   "execution_count": 6,
   "metadata": {
    "collapsed": false
   },
   "outputs": [],
   "source": [
    "def generateStack(loc_NAIPFile): #, training_stack_dir, naip_band_order, veg_indicies):\n",
    "    print(\"Starting on NAIP File: %s\" % loc_NAIPFile)\n",
    "    ofile_name = os.path.basename(loc_NAIPFile)[:-4] + \"_TrainingStack.tif\"\n",
    "\n",
    "    o_file = os.path.join(training_stack_dir, ofile_name)\n",
    "\n",
    "    if not os.path.exists(o_file):\n",
    "        start = datetime.now()\n",
    "        print(\"Training stack doesn't exist. Creating at %s\" % o_file)\n",
    "\n",
    "        with rio.open(loc_NAIPFile) as ras:\n",
    "            prof = ras.profile\n",
    "\n",
    "            initialize = rio.open(o_file, 'w', **prof).close()  # prevent parallel process for working on same file\n",
    "\n",
    "            n_bands = prof[\"count\"]\n",
    "\n",
    "            output_array_stack = []\n",
    "\n",
    "            tags = dict(naip_band_order)\n",
    "            ras_array = ras.read()\n",
    "            ras_array = np.moveaxis(ras_array, 0,\n",
    "                                    -1)  # scikit-image wants array in (height, width, bands). Rasterio returns (bands, height, width)\n",
    "            bands_array_seg = segmentImage(ras_array)\n",
    "\n",
    "            # Identify segments as individual labels\n",
    "            label_im = label(bands_array_seg, connectivity=1).astype(np.float32) + 1\n",
    "\n",
    "            del bands_array_seg\n",
    "\n",
    "            # Iterate through R,G,B,NIR bands and use the segmented image to calculate mean in zones/labels\n",
    "            for b in range(1, n_bands + 1):\n",
    "                print(b)\n",
    "\n",
    "                band_array = ras.read(b)\n",
    "\n",
    "                seg_mean_band = calcSegmentMean(in_band=band_array, labeled_array=label_im, characteristic=\"mean\")\n",
    "\n",
    "                output_array_stack.append(seg_mean_band.astype(np.int16))\n",
    "\n",
    "            # CREATED BANDS FOR SEGMENT SIZE CHARACERISTICS (Area/Perimeter of segment, and % area of bounding box)\n",
    "            geometric_arrays = calcSegmentMean(in_band=band_array, labeled_array=label_im, characteristic=\"geometry\")\n",
    "            del label_im\n",
    "\n",
    "            output_array_stack, tags = compoundArrays(output_array_stack, tags, geometric_arrays)\n",
    "\n",
    "            # CREATE VEG INDEX ARRAYS\n",
    "            veg_arrays_dict = vegIndexCalc(output_array_stack, veg_indicies)\n",
    "            output_array_stack, tags = compoundArrays(output_array_stack, tags, veg_arrays_dict)\n",
    "\n",
    "            # CREATE LANDSAT INDEX ARRAYS AND APPEND TO MAIN ARRAY WITH TAGS\n",
    "            # GET ALL LANDSAT BAND ARRAYS AND APPEND TO MAIN ARRAY\n",
    "            landsat_qquad_array = getSubSetLandsat(loc_NAIPFile, landsat_file, landsat_qquad_dir, overwrite=False)\n",
    "            for i in range(len(landsat_qquad_array)):\n",
    "                output_array_stack.append(landsat_qquad_array[i].astype(np.int16))\n",
    "                tags[len(tags) + 1] = \"L8_\" + str(i + 1)\n",
    "\n",
    "            # APPEND NDSI ARRAY TO MAIN ARRAY\n",
    "            landsat_ndsi_array = getSubSetLandsat(loc_NAIPFile, ndsi_file, ndsi_qquad_dir, overwrite=False)\n",
    "            output_array_stack.append(landsat_ndsi_array[\n",
    "                                          0])  # full read has shape (1, 7500, 6900). Must be 7500,6900 for equal shape of other arrays\n",
    "            tags[len(tags) + 1] = \"L8_NDSI\"\n",
    "\n",
    "            # APPEND NDWI ARRAY TO MAIN ARRAY\n",
    "            landsat_ndwi_array = getSubSetLandsat(loc_NAIPFile, ndwi_file, ndwi_qquad_dir, overwrite=False)\n",
    "            output_array_stack.append(landsat_ndwi_array[0])\n",
    "            tags[len(tags) + 1] = \"L8_NDWI\"\n",
    "\n",
    "            # naip_end = datetime.now()\n",
    "\n",
    "            out_array_stack_np = np.stack(output_array_stack, axis=0)\n",
    "            # print(out_array_stack_np.shape)\n",
    "            # print(out_array_stack_np.dtype)\n",
    "\n",
    "        prof.update(\n",
    "            dtype=rio.int16,\n",
    "            count=len(out_array_stack_np)\n",
    "        )\n",
    "\n",
    "        with rio.open(o_file, 'w', **prof) as outras:\n",
    "            for n, tag in tags.items():\n",
    "                outras.update_tags(n, NAME=tag)\n",
    "            outras.write(out_array_stack_np.astype(rio.int16))\n",
    "\n",
    "        print(\"FINISHED\")\n",
    "\n",
    "        end = datetime.now()\n",
    "        print(\"\\tElapsed %s\" % (str(end - start)))"
   ]
  },
  {
   "cell_type": "code",
   "execution_count": 5,
   "metadata": {
    "collapsed": true
   },
   "outputs": [],
   "source": [
    "logger.basicConfig(level=logger.INFO)\n",
    "\n",
    "veg_indicies = [\"NDVI\", \"SAVI\", \"OSAVI\", \"MSAVI2\", \"EVI2\"]\n",
    "\n",
    "naip_band_order = {1: \"RED\", 2: \"GREEN\", 3: \"BLUE\", 4: \"NIR\"}\n",
    "\n",
    "base_datadir = os.path.abspath(r\"M:\\Data\")\n",
    "base_landsatdir = os.path.join(base_datadir, \"Landsat8\")\n",
    "ndsi_qquad_dir = os.path.join(base_datadir, \"NDSI\")\n",
    "ndwi_qquad_dir = os.path.join(base_datadir, \"NDWI\")\n",
    "landsat_qquad_dir = os.path.join(base_landsatdir, \"byNAIPDOY_QQuads\")\n",
    "\n",
    "landsat_file = os.path.os.path.join(base_landsatdir, \"Landsat1to8_TOA_NAIPAcquiDate_merge_rectified.tif\")\n",
    "# LOCATION OF THE NDSI FILE\n",
    "ndsi_file = os.path.join(ndsi_qquad_dir, \"LandsatOLI_NDSI_30m.tif\")\n",
    "# LOCATION OF THE NDWI FILE\n",
    "ndwi_file = os.path.join(ndwi_qquad_dir, \"LandsatOLI_NDWI_30m.tif\")"
   ]
  },
  {
   "cell_type": "code",
   "execution_count": 4,
   "metadata": {
    "collapsed": false
   },
   "outputs": [
    {
     "name": "stdout",
     "output_type": "stream",
     "text": [
      "Reading in class_points_file...\n"
     ]
    }
   ],
   "source": [
    "\n",
    "training_stack_dir = os.path.join(base_datadir, \"TrainingImageStack\")\n",
    "if not os.path.exists(training_stack_dir):\n",
    "    os.mkdir(training_stack_dir)\n",
    "\n",
    "# Allow division by zero\n",
    "np.seterr(divide='ignore', invalid='ignore')\n",
    "\n",
    "print(\"Reading in class_points_file...\")\n",
    "loc_class_points = os.path.abspath(\n",
    "    r\"Q:\\GoogleDrive\\AridRiparianProject\\WorkingDirectory\\classificationPoints_join.shp\")\n",
    "training_data_df = gpd.read_file(loc_class_points, crs={'init': 'epsg:26912'})"
   ]
  },
  {
   "cell_type": "code",
   "execution_count": null,
   "metadata": {
    "collapsed": true
   },
   "outputs": [],
   "source": [
    "label_im = label(bands_array_seg, connectivity=1).astype(np.float64) + 1"
   ]
  },
  {
   "cell_type": "code",
   "execution_count": null,
   "metadata": {
    "collapsed": false
   },
   "outputs": [],
   "source": [
    "with rio.open(loc_NAIPFile) as ras:\n",
    "    band_array = ras.read(1)\n",
    "    \n",
    "    seg_mean_band1 = calcSegmentMean(in_band=band_array, labeled_array=label_im, characteristic=\"mean\")\n",
    "seg_mean_band1"
   ]
  },
  {
   "cell_type": "code",
   "execution_count": null,
   "metadata": {
    "collapsed": false
   },
   "outputs": [],
   "source": [
    "with rio.open(loc_NAIPFile) as ras:\n",
    "    band_array = ras.read(2)\n",
    "    \n",
    "    seg_mean_band2 = calcSegmentMean(in_band=band_array, labeled_array=label_im, characteristic=\"mean\")\n",
    "seg_mean_band2"
   ]
  },
  {
   "cell_type": "code",
   "execution_count": null,
   "metadata": {
    "collapsed": true
   },
   "outputs": [],
   "source": [
    "with rio.open(loc_NAIPFile) as ras:\n",
    "    band_array = ras.read(3)\n",
    "    \n",
    "    seg_mean_band3 = calcSegmentMean(in_band=band_array, labeled_array=label_im, characteristic=\"mean\")"
   ]
  },
  {
   "cell_type": "code",
   "execution_count": null,
   "metadata": {
    "collapsed": true
   },
   "outputs": [],
   "source": [
    "with rio.open(loc_NAIPFile) as ras:\n",
    "    band_array = ras.read(4)\n",
    "    \n",
    "    seg_mean_band4 = calcSegmentMean(in_band=band_array, labeled_array=label_im, characteristic=\"mean\")"
   ]
  },
  {
   "cell_type": "code",
   "execution_count": 60,
   "metadata": {
    "collapsed": false
   },
   "outputs": [
    {
     "name": "stdout",
     "output_type": "stream",
     "text": [
      "\tStarting segmentation of NAIP File: Q:\\Arid Riparian Project\\Data\\NAIP_2015_Compressed\\m_3211337_se_12_1_20150725.tif\n",
      "Segmented file doesn't exist or overwrite set. Creating at Q:\\Arid Riparian Project\\Data\\test\\m_3211337_se_12_1_20150725_Segmented.tif\n",
      "Beginning image segmentation on array\n"
     ]
    },
    {
     "name": "stderr",
     "output_type": "stream",
     "text": [
      "C:\\Program Files\\Anaconda3\\lib\\site-packages\\skimage\\segmentation\\_felzenszwalb.py:60: RuntimeWarning: Got image with third dimension of 4. This image will be interpreted as a multichannel 2d image, which may not be intended.\n",
      "  min_size=min_size)\n"
     ]
    },
    {
     "name": "stdout",
     "output_type": "stream",
     "text": [
      "Felzenszwalb number of segments: 3052247. \n",
      "\t0:02:48.317097 elapsed.\n",
      "\tSegmentation took 0:02:54.461148\n",
      "1\n",
      "\tBeginning mean calculation on segments...\n"
     ]
    },
    {
     "ename": "NameError",
     "evalue": "name 'r' is not defined",
     "output_type": "error",
     "traceback": [
      "\u001b[0;31m---------------------------------------------------------------------------\u001b[0m",
      "\u001b[0;31m_RemoteTraceback\u001b[0m                          Traceback (most recent call last)",
      "\u001b[0;31m_RemoteTraceback\u001b[0m: \n\"\"\"\nTraceback (most recent call last):\n  File \"C:\\Program Files\\Anaconda3\\lib\\site-packages\\joblib\\externals\\loky\\process_executor.py\", line 425, in _process_worker\n    r = call_item.fn(*call_item.args, **call_item.kwargs)\n  File \"C:\\Program Files\\Anaconda3\\lib\\site-packages\\joblib\\_parallel_backends.py\", line 561, in __call__\n    return self.func(*args, **kwargs)\n  File \"C:\\Program Files\\Anaconda3\\lib\\site-packages\\joblib\\parallel.py\", line 261, in __call__\n    for func, args, kwargs in self.items]\n  File \"C:\\Program Files\\Anaconda3\\lib\\site-packages\\joblib\\parallel.py\", line 261, in <listcomp>\n    for func, args, kwargs in self.items]\n  File \"<ipython-input-59-1bc2d070f900>\", line 79, in loopRegions\nNameError: name 'r' is not defined\n\"\"\"",
      "\nThe above exception was the direct cause of the following exception:\n",
      "\u001b[0;31mNameError\u001b[0m                                 Traceback (most recent call last)",
      "\u001b[0;32m<ipython-input-60-81267dea0a04>\u001b[0m in \u001b[0;36m<module>\u001b[0;34m()\u001b[0m\n\u001b[1;32m     29\u001b[0m         \u001b[1;31m#label_im = label(bands_array_seg, connectivity=1).astype(np.float32) + 1\u001b[0m\u001b[1;33m\u001b[0m\u001b[1;33m\u001b[0m\u001b[0m\n\u001b[1;32m     30\u001b[0m \u001b[1;33m\u001b[0m\u001b[0m\n\u001b[0;32m---> 31\u001b[0;31m         \u001b[0mseg_mean_band\u001b[0m \u001b[1;33m=\u001b[0m \u001b[0mcalcSegmentMean\u001b[0m\u001b[1;33m(\u001b[0m\u001b[0min_band\u001b[0m\u001b[1;33m=\u001b[0m\u001b[0mband_array\u001b[0m\u001b[1;33m,\u001b[0m \u001b[0mregs\u001b[0m\u001b[1;33m=\u001b[0m\u001b[0mregions\u001b[0m\u001b[1;33m,\u001b[0m \u001b[0mlabeled_array\u001b[0m\u001b[1;33m=\u001b[0m\u001b[0mlabel_im\u001b[0m\u001b[1;33m)\u001b[0m\u001b[1;33m\u001b[0m\u001b[0m\n\u001b[0m\u001b[1;32m     32\u001b[0m \u001b[1;33m\u001b[0m\u001b[0m\n\u001b[1;32m     33\u001b[0m         \u001b[0moutput_array_stack\u001b[0m\u001b[1;33m.\u001b[0m\u001b[0mappend\u001b[0m\u001b[1;33m(\u001b[0m\u001b[0mseg_mean_band\u001b[0m\u001b[1;33m.\u001b[0m\u001b[0mastype\u001b[0m\u001b[1;33m(\u001b[0m\u001b[0mnp\u001b[0m\u001b[1;33m.\u001b[0m\u001b[0mint16\u001b[0m\u001b[1;33m)\u001b[0m\u001b[1;33m)\u001b[0m\u001b[1;33m\u001b[0m\u001b[0m\n",
      "\u001b[0;32m<ipython-input-59-1bc2d070f900>\u001b[0m in \u001b[0;36mcalcSegmentMean\u001b[0;34m(labeled_array, regs, in_band)\u001b[0m\n\u001b[1;32m     86\u001b[0m     \u001b[0mprint\u001b[0m\u001b[1;33m(\u001b[0m\u001b[1;34m\"\\tBeginning mean calculation on segments...\"\u001b[0m\u001b[1;33m)\u001b[0m\u001b[1;33m\u001b[0m\u001b[0m\n\u001b[1;32m     87\u001b[0m     \u001b[0mmean_array\u001b[0m \u001b[1;33m=\u001b[0m \u001b[0mnp\u001b[0m\u001b[1;33m.\u001b[0m\u001b[0mcopy\u001b[0m\u001b[1;33m(\u001b[0m\u001b[0mlabeled_array\u001b[0m\u001b[1;33m)\u001b[0m\u001b[1;33m\u001b[0m\u001b[0m\n\u001b[0;32m---> 88\u001b[0;31m     \u001b[0mmean_array\u001b[0m \u001b[1;33m=\u001b[0m \u001b[0mParallel\u001b[0m\u001b[1;33m(\u001b[0m\u001b[0mn_jobs\u001b[0m\u001b[1;33m=\u001b[0m\u001b[1;36m4\u001b[0m\u001b[1;33m)\u001b[0m\u001b[1;33m(\u001b[0m\u001b[0mdelayed\u001b[0m\u001b[1;33m(\u001b[0m\u001b[0mloopRegions\u001b[0m\u001b[1;33m)\u001b[0m\u001b[1;33m(\u001b[0m\u001b[0mr\u001b[0m\u001b[1;33m,\u001b[0m \u001b[0mmean_array\u001b[0m\u001b[1;33m)\u001b[0m \u001b[1;32mfor\u001b[0m \u001b[0mr\u001b[0m \u001b[1;32min\u001b[0m \u001b[0mregions\u001b[0m\u001b[1;33m)\u001b[0m\u001b[1;33m\u001b[0m\u001b[0m\n\u001b[0m\u001b[1;32m     89\u001b[0m     \"\"\"\n\u001b[1;32m     90\u001b[0m     \u001b[1;32mfor\u001b[0m \u001b[0mr\u001b[0m \u001b[1;32min\u001b[0m \u001b[0mregs\u001b[0m\u001b[1;33m:\u001b[0m\u001b[1;33m\u001b[0m\u001b[0m\n",
      "\u001b[0;32mC:\\Program Files\\Anaconda3\\lib\\site-packages\\joblib\\parallel.py\u001b[0m in \u001b[0;36m__call__\u001b[0;34m(self, iterable)\u001b[0m\n\u001b[1;32m    992\u001b[0m \u001b[1;33m\u001b[0m\u001b[0m\n\u001b[1;32m    993\u001b[0m             \u001b[1;32mwith\u001b[0m \u001b[0mself\u001b[0m\u001b[1;33m.\u001b[0m\u001b[0m_backend\u001b[0m\u001b[1;33m.\u001b[0m\u001b[0mretrieval_context\u001b[0m\u001b[1;33m(\u001b[0m\u001b[1;33m)\u001b[0m\u001b[1;33m:\u001b[0m\u001b[1;33m\u001b[0m\u001b[0m\n\u001b[0;32m--> 994\u001b[0;31m                 \u001b[0mself\u001b[0m\u001b[1;33m.\u001b[0m\u001b[0mretrieve\u001b[0m\u001b[1;33m(\u001b[0m\u001b[1;33m)\u001b[0m\u001b[1;33m\u001b[0m\u001b[0m\n\u001b[0m\u001b[1;32m    995\u001b[0m             \u001b[1;31m# Make sure that we get a last message telling us we are done\u001b[0m\u001b[1;33m\u001b[0m\u001b[1;33m\u001b[0m\u001b[0m\n\u001b[1;32m    996\u001b[0m             \u001b[0melapsed_time\u001b[0m \u001b[1;33m=\u001b[0m \u001b[0mtime\u001b[0m\u001b[1;33m.\u001b[0m\u001b[0mtime\u001b[0m\u001b[1;33m(\u001b[0m\u001b[1;33m)\u001b[0m \u001b[1;33m-\u001b[0m \u001b[0mself\u001b[0m\u001b[1;33m.\u001b[0m\u001b[0m_start_time\u001b[0m\u001b[1;33m\u001b[0m\u001b[0m\n",
      "\u001b[0;32mC:\\Program Files\\Anaconda3\\lib\\site-packages\\joblib\\parallel.py\u001b[0m in \u001b[0;36mretrieve\u001b[0;34m(self)\u001b[0m\n\u001b[1;32m    895\u001b[0m             \u001b[1;32mtry\u001b[0m\u001b[1;33m:\u001b[0m\u001b[1;33m\u001b[0m\u001b[0m\n\u001b[1;32m    896\u001b[0m                 \u001b[1;32mif\u001b[0m \u001b[0mgetattr\u001b[0m\u001b[1;33m(\u001b[0m\u001b[0mself\u001b[0m\u001b[1;33m.\u001b[0m\u001b[0m_backend\u001b[0m\u001b[1;33m,\u001b[0m \u001b[1;34m'supports_timeout'\u001b[0m\u001b[1;33m,\u001b[0m \u001b[1;32mFalse\u001b[0m\u001b[1;33m)\u001b[0m\u001b[1;33m:\u001b[0m\u001b[1;33m\u001b[0m\u001b[0m\n\u001b[0;32m--> 897\u001b[0;31m                     \u001b[0mself\u001b[0m\u001b[1;33m.\u001b[0m\u001b[0m_output\u001b[0m\u001b[1;33m.\u001b[0m\u001b[0mextend\u001b[0m\u001b[1;33m(\u001b[0m\u001b[0mjob\u001b[0m\u001b[1;33m.\u001b[0m\u001b[0mget\u001b[0m\u001b[1;33m(\u001b[0m\u001b[0mtimeout\u001b[0m\u001b[1;33m=\u001b[0m\u001b[0mself\u001b[0m\u001b[1;33m.\u001b[0m\u001b[0mtimeout\u001b[0m\u001b[1;33m)\u001b[0m\u001b[1;33m)\u001b[0m\u001b[1;33m\u001b[0m\u001b[0m\n\u001b[0m\u001b[1;32m    898\u001b[0m                 \u001b[1;32melse\u001b[0m\u001b[1;33m:\u001b[0m\u001b[1;33m\u001b[0m\u001b[0m\n\u001b[1;32m    899\u001b[0m                     \u001b[0mself\u001b[0m\u001b[1;33m.\u001b[0m\u001b[0m_output\u001b[0m\u001b[1;33m.\u001b[0m\u001b[0mextend\u001b[0m\u001b[1;33m(\u001b[0m\u001b[0mjob\u001b[0m\u001b[1;33m.\u001b[0m\u001b[0mget\u001b[0m\u001b[1;33m(\u001b[0m\u001b[1;33m)\u001b[0m\u001b[1;33m)\u001b[0m\u001b[1;33m\u001b[0m\u001b[0m\n",
      "\u001b[0;32mC:\\Program Files\\Anaconda3\\lib\\site-packages\\joblib\\_parallel_backends.py\u001b[0m in \u001b[0;36mwrap_future_result\u001b[0;34m(future, timeout)\u001b[0m\n\u001b[1;32m    513\u001b[0m         AsyncResults.get from multiprocessing.\"\"\"\n\u001b[1;32m    514\u001b[0m         \u001b[1;32mtry\u001b[0m\u001b[1;33m:\u001b[0m\u001b[1;33m\u001b[0m\u001b[0m\n\u001b[0;32m--> 515\u001b[0;31m             \u001b[1;32mreturn\u001b[0m \u001b[0mfuture\u001b[0m\u001b[1;33m.\u001b[0m\u001b[0mresult\u001b[0m\u001b[1;33m(\u001b[0m\u001b[0mtimeout\u001b[0m\u001b[1;33m=\u001b[0m\u001b[0mtimeout\u001b[0m\u001b[1;33m)\u001b[0m\u001b[1;33m\u001b[0m\u001b[0m\n\u001b[0m\u001b[1;32m    516\u001b[0m         \u001b[1;32mexcept\u001b[0m \u001b[0mLokyTimeoutError\u001b[0m\u001b[1;33m:\u001b[0m\u001b[1;33m\u001b[0m\u001b[0m\n\u001b[1;32m    517\u001b[0m             \u001b[1;32mraise\u001b[0m \u001b[0mTimeoutError\u001b[0m\u001b[1;33m(\u001b[0m\u001b[1;33m)\u001b[0m\u001b[1;33m\u001b[0m\u001b[0m\n",
      "\u001b[0;32mC:\\Program Files\\Anaconda3\\lib\\site-packages\\joblib\\externals\\loky\\_base.py\u001b[0m in \u001b[0;36mresult\u001b[0;34m(self, timeout)\u001b[0m\n\u001b[1;32m    429\u001b[0m                 \u001b[1;32mraise\u001b[0m \u001b[0mCancelledError\u001b[0m\u001b[1;33m(\u001b[0m\u001b[1;33m)\u001b[0m\u001b[1;33m\u001b[0m\u001b[0m\n\u001b[1;32m    430\u001b[0m             \u001b[1;32melif\u001b[0m \u001b[0mself\u001b[0m\u001b[1;33m.\u001b[0m\u001b[0m_state\u001b[0m \u001b[1;33m==\u001b[0m \u001b[0mFINISHED\u001b[0m\u001b[1;33m:\u001b[0m\u001b[1;33m\u001b[0m\u001b[0m\n\u001b[0;32m--> 431\u001b[0;31m                 \u001b[1;32mreturn\u001b[0m \u001b[0mself\u001b[0m\u001b[1;33m.\u001b[0m\u001b[0m__get_result\u001b[0m\u001b[1;33m(\u001b[0m\u001b[1;33m)\u001b[0m\u001b[1;33m\u001b[0m\u001b[0m\n\u001b[0m\u001b[1;32m    432\u001b[0m             \u001b[1;32melse\u001b[0m\u001b[1;33m:\u001b[0m\u001b[1;33m\u001b[0m\u001b[0m\n\u001b[1;32m    433\u001b[0m                 \u001b[1;32mraise\u001b[0m \u001b[0mTimeoutError\u001b[0m\u001b[1;33m(\u001b[0m\u001b[1;33m)\u001b[0m\u001b[1;33m\u001b[0m\u001b[0m\n",
      "\u001b[0;32mC:\\Program Files\\Anaconda3\\lib\\site-packages\\joblib\\externals\\loky\\_base.py\u001b[0m in \u001b[0;36m__get_result\u001b[0;34m(self)\u001b[0m\n\u001b[1;32m    380\u001b[0m     \u001b[1;32mdef\u001b[0m \u001b[0m__get_result\u001b[0m\u001b[1;33m(\u001b[0m\u001b[0mself\u001b[0m\u001b[1;33m)\u001b[0m\u001b[1;33m:\u001b[0m\u001b[1;33m\u001b[0m\u001b[0m\n\u001b[1;32m    381\u001b[0m         \u001b[1;32mif\u001b[0m \u001b[0mself\u001b[0m\u001b[1;33m.\u001b[0m\u001b[0m_exception\u001b[0m\u001b[1;33m:\u001b[0m\u001b[1;33m\u001b[0m\u001b[0m\n\u001b[0;32m--> 382\u001b[0;31m             \u001b[1;32mraise\u001b[0m \u001b[0mself\u001b[0m\u001b[1;33m.\u001b[0m\u001b[0m_exception\u001b[0m\u001b[1;33m\u001b[0m\u001b[0m\n\u001b[0m\u001b[1;32m    383\u001b[0m         \u001b[1;32melse\u001b[0m\u001b[1;33m:\u001b[0m\u001b[1;33m\u001b[0m\u001b[0m\n\u001b[1;32m    384\u001b[0m             \u001b[1;32mreturn\u001b[0m \u001b[0mself\u001b[0m\u001b[1;33m.\u001b[0m\u001b[0m_result\u001b[0m\u001b[1;33m\u001b[0m\u001b[0m\n",
      "\u001b[0;31mNameError\u001b[0m: name 'r' is not defined"
     ]
    }
   ],
   "source": [
    "segmentedImagesDir = r\"Q:\\Arid Riparian Project\\Data\\test\"\n",
    "bands_array_seg = segmentImage(r\"Q:\\Arid Riparian Project\\Data\\NAIP_2015_Compressed\\m_3211337_se_12_1_20150725.tif\",\n",
    "                               segmentedImagesDir, overwrite=True)\n",
    "start = datetime.now()\n",
    "with rio.open(r\"Q:\\Arid Riparian Project\\Data\\NAIP_2015_Compressed\\m_3211337_se_12_1_20150725.tif\") as ras:\n",
    "    prof = ras.profile\n",
    "    #initialize = rio.open(o_file, 'w', **prof).close() # prevent parallel process for working on same file\n",
    "    n_bands = ras.count\n",
    "\n",
    "    output_array_stack = []\n",
    "\n",
    "    tags = dict(naip_band_order)\n",
    "    #ras_array = ras.read()\n",
    "    #ras_array = np.moveaxis(ras_array, 0, -1)  # scikit-image wants array in (height, width, bands). Rasterio returns (bands, height, width)\n",
    "    \n",
    "     # Identify segments as individual labels\n",
    "    label_im = label(bands_array_seg, connectivity=1).astype(np.float32) + 1\n",
    "\n",
    "    # Iterate through R,G,B,NIR bands and use the segmented image to calculate mean in zones/labels\n",
    "    for b in range(1, n_bands + 1):\n",
    "        print(b)\n",
    "\n",
    "        band_array = ras.read(b)\n",
    "\n",
    "        #bands_array_seg = segmentImage(band_array)\n",
    "        regions = measure.regionprops(label_im.astype(np.int32), intensity_image=band_array)\n",
    "\n",
    "        # Identify segments as individual labels\n",
    "        #label_im = label(bands_array_seg, connectivity=1).astype(np.float32) + 1\n",
    "\n",
    "        seg_mean_band = calcSegmentMean(in_band=band_array, regs=regions, labeled_array=label_im)\n",
    "\n",
    "        output_array_stack.append(seg_mean_band.astype(np.int16))\n",
    "\n",
    "out_array_stack_np = np.stack(output_array_stack, axis=0)\n",
    "            # print(out_array_stack_np.shape)\n",
    "            # print(out_array_stack_np.dtype)\n",
    "\n",
    "prof.update(\n",
    "    dtype=rio.int16,\n",
    "    count=len(out_array_stack_np)\n",
    ") \n",
    "\n",
    "with rio.open(r\"Q:\\Arid Riparian Project\\Data\\test\\seg_test_m_3211337_se_12_1_20150725_4band_mean.tif\", 'w', **prof) as outras:\n",
    "    #for n, tag in tags.items():\n",
    "    #    outras.update_tags(n, NAME=tag)\n",
    "    outras.write(out_array_stack_np.astype(rio.int16))\n",
    "end = datetime.now()\n",
    "\n",
    "print(end-start)"
   ]
  },
  {
   "cell_type": "code",
   "execution_count": 32,
   "metadata": {
    "collapsed": false
   },
   "outputs": [
    {
     "name": "stdout",
     "output_type": "stream",
     "text": [
      "-1 day, 23:26:16.842730\n"
     ]
    }
   ],
   "source": [
    "with rio.open(r\"Q:\\Arid Riparian Project\\Data\\test\\seg_test_m_3211337_se_12_1_20150725_4band_mean.tif\", 'w', **prof) as outras:\n",
    "    #for n, tag in tags.items():\n",
    "    #    outras.update_tags(n, NAME=tag)\n",
    "    outras.write(out_array_stack_np.astype(rio.int16))\n",
    "\n",
    "print(end-start)"
   ]
  },
  {
   "cell_type": "code",
   "execution_count": 28,
   "metadata": {
    "collapsed": false
   },
   "outputs": [
    {
     "name": "stdout",
     "output_type": "stream",
     "text": [
      "1 RED\n",
      "2 GREEN\n",
      "3 BLUE\n",
      "4 NIR\n"
     ]
    }
   ],
   "source": [
    "for n, tag in tags.items():\n",
    "    print(n,tag)"
   ]
  },
  {
   "cell_type": "code",
   "execution_count": null,
   "metadata": {
    "collapsed": false
   },
   "outputs": [],
   "source": [
    "count = 0\n",
    "naip_files = []\n",
    "for loc_NAIPFile, group in training_data_df.groupby(\"NAIP_FILE\"):\n",
    "    # print(loc_NAIPFile)\n",
    "    count += 1\n",
    "    # loc_NAIPFile.replace(\"\\\\\", \"/\")  # normalize for windows paths\n",
    "    # print(count, \" - \", os.path.basename(loc_NAIPFile))\n",
    "    naip_files.append(loc_NAIPFile)\n",
    "\n",
    "    print(\"Starting on NAIP File: %s\" % loc_NAIPFile)\n",
    "    ofile_name = os.path.basename(loc_NAIPFile)[:-4] + \"_TrainingStack.tif\"\n",
    "\n",
    "    o_file = os.path.join(training_stack_dir, ofile_name)\n",
    "\n",
    "    if not os.path.exists(o_file):\n",
    "        start = datetime.now()\n",
    "        print(\"Training stack doesn't exist. Creating at %s\" % o_file)\n",
    "\n",
    "        with rio.open(loc_NAIPFile) as ras:\n",
    "            prof = ras.profile\n",
    "            initialize = rio.open(o_file, 'w', **prof).close() # prevent parallel process for working on same file\n",
    "            n_bands = prof[\"count\"]\n",
    "\n",
    "            output_array_stack = []\n",
    "\n",
    "            tags = dict(naip_band_order)\n",
    "            ras_array = ras.read()\n",
    "            ras_array = np.moveaxis(ras_array, 0,\n",
    "                                    -1)  # scikit-image wants array in (height, width, bands). Rasterio returns (bands, height, width)\n",
    "            bands_array_seg = segmentImage(ras_array)\n",
    "\n",
    "            # Identify segments as individual labels\n",
    "            label_im = label(bands_array_seg, connectivity=1).astype(np.float32) + 1\n",
    "\n",
    "            # Iterate through R,G,B,NIR bands and use the segmented image to calculate mean in zones/labels\n",
    "            for b in range(1, n_bands + 1):\n",
    "                print(b)\n",
    "\n",
    "                band_array = ras.read(b)\n",
    "\n",
    "                seg_mean_band = calcSegmentMean(in_band=band_array, labeled_array=label_im, characteristic=\"mean\")\n",
    "\n",
    "                output_array_stack.append(seg_mean_band.astype(np.int16))\n",
    "\n",
    "            # CREATED BANDS FOR SEGMENT SIZE CHARACERISTICS (Area/Perimeter of segment, and % area of bounding box)\n",
    "            #geometric_arrays = calcSegmentMean(in_band=band_array, labeled_array=label_im, characteristic=\"geometry\")\n",
    "\n",
    "            # CREATE VEG INDEX ARRAYS\n",
    "            #veg_arrays_dict = vegIndexCalc(output_array_stack, veg_indicies)\n",
    "\n",
    "            #output_array_stack, tags = compoundArrays(output_array_stack, tags, geometric_arrays)\n",
    "            #output_array_stack, tags = compoundArrays(output_array_stack, tags, veg_arrays_dict)\n",
    "\n",
    "\n",
    "            # CREATE LANDSAT INDEX ARRAYS AND APPEND TO MAIN ARRAY WITH TAGS\n",
    "            # GET ALL LANDSAT BAND ARRAYS AND APPEND TO MAIN ARRAY\n",
    "            landsat_qquad_array = getSubSetLandsat(loc_NAIPFile, landsat_file, landsat_qquad_dir, overwrite=False)\n",
    "            for i in range(len(landsat_qquad_array)):\n",
    "                output_array_stack.append(landsat_qquad_array[i].astype(np.int16))\n",
    "                tags[len(tags) + 1] = \"L8_\" + str(i + 1)\n",
    "\n",
    "            # APPEND NDSI ARRAY TO MAIN ARRAY\n",
    "            landsat_ndsi_array = getSubSetLandsat(loc_NAIPFile, ndsi_file, ndsi_qquad_dir, overwrite=False)\n",
    "            output_array_stack.append(landsat_ndsi_array[0])  # full read has shape (1, 7500, 6900). Must be 7500,6900 for equal shape of other arrays\n",
    "            tags[len(tags) + 1] = \"L8_NDSI\"\n",
    "\n",
    "            # APPEND NDWI ARRAY TO MAIN ARRAY\n",
    "            landsat_ndwi_array = getSubSetLandsat(loc_NAIPFile, ndwi_file, ndwi_qquad_dir, overwrite=False)\n",
    "            output_array_stack.append(landsat_ndwi_array[0])\n",
    "            tags[len(tags) + 1] = \"L8_NDWI\"\n",
    "\n",
    "            # naip_end = datetime.now()\n",
    "\n",
    "            out_array_stack_np = np.stack(output_array_stack, axis=0)\n",
    "            # print(out_array_stack_np.shape)\n",
    "            # print(out_array_stack_np.dtype)\n",
    "\n",
    "        prof.update(\n",
    "            dtype=rio.int16,\n",
    "            count=len(out_array_stack_np)\n",
    "        ) \n",
    "\n",
    "        with rio.open(o_file, 'w', **prof) as outras:\n",
    "            for n, tag in tags.items():\n",
    "                outras.update_tags(n, NAME=tag)\n",
    "            outras.write(out_array_stack_np.astype(rio.int16))\n",
    "\n",
    "        print(\"FINISHED\")\n",
    "\n",
    "        end = datetime.now()\n",
    "        print(\"\\tElapsed %s\" % (str(end - start)))\n",
    "        \n",
    "    raise ValueError\n"
   ]
  },
  {
   "cell_type": "code",
   "execution_count": null,
   "metadata": {
    "collapsed": false
   },
   "outputs": [],
   "source": [
    "out_array_stack_np.shape"
   ]
  },
  {
   "cell_type": "code",
   "execution_count": null,
   "metadata": {
    "collapsed": false
   },
   "outputs": [],
   "source": [
    "#with rio.open(o_file+\"_1\")\n",
    "prof.update(count=4)"
   ]
  },
  {
   "cell_type": "code",
   "execution_count": null,
   "metadata": {
    "collapsed": false
   },
   "outputs": [],
   "source": []
  },
  {
   "cell_type": "code",
   "execution_count": null,
   "metadata": {
    "collapsed": false
   },
   "outputs": [],
   "source": [
    "prof.update(count=1)\n",
    "ofile = o_file[:-4] + \"_1.tif\"\n",
    "initialize = rio.open(ofile, 'w', **prof).close()"
   ]
  },
  {
   "cell_type": "code",
   "execution_count": null,
   "metadata": {
    "collapsed": false
   },
   "outputs": [],
   "source": [
    "prof.update(count=14)\n",
    "with rio.open(ofile, 'w', **prof) as outras:\n",
    "    for n, tag in tags.items():\n",
    "        outras.update_tags(n, NAME=tag)\n",
    "    outras.write(out_array_stack_np.astype(rio.int16))"
   ]
  },
  {
   "cell_type": "code",
   "execution_count": null,
   "metadata": {
    "collapsed": false
   },
   "outputs": [],
   "source": [
    "print(bands_array_seg.shape)\n",
    "print(label_im.shape)"
   ]
  },
  {
   "cell_type": "code",
   "execution_count": 6,
   "metadata": {
    "collapsed": false
   },
   "outputs": [
    {
     "name": "stdout",
     "output_type": "stream",
     "text": [
      "(7650, 6660)\n"
     ]
    }
   ],
   "source": [
    "with rio.open(r\"M:\\Data\\SegmentedNAIPImages\\m_3110930_nw_12_1_20150621_Segmented.tif\") as ras:\n",
    "    prof = ras.profile\n",
    "    bands_array_seg = ras.read(1)\n",
    "    print(bands_array_seg.shape)"
   ]
  },
  {
   "cell_type": "code",
   "execution_count": 7,
   "metadata": {
    "collapsed": false
   },
   "outputs": [
    {
     "name": "stdout",
     "output_type": "stream",
     "text": [
      "(7650, 6660)\n"
     ]
    }
   ],
   "source": [
    "#bands_array_seg = np.moveaxis(bands_array_seg, 0, -1)\n",
    "print(bands_array_seg.shape)"
   ]
  },
  {
   "cell_type": "code",
   "execution_count": 29,
   "metadata": {
    "collapsed": false
   },
   "outputs": [],
   "source": [
    "label_im = label(bands_array_seg, connectivity=1).astype(np.float32) + 1\n",
    "\n",
    "#empty_ar = np.zeros(bands_array_seg.shape).astype(np.byte)"
   ]
  },
  {
   "cell_type": "code",
   "execution_count": 18,
   "metadata": {
    "collapsed": false
   },
   "outputs": [
    {
     "data": {
      "text/plain": [
       "array([[  1.00000000e+00,   1.00000000e+00,   1.00000000e+00, ...,\n",
       "          2.11700000e+03,   2.11700000e+03,   2.11700000e+03],\n",
       "       [  1.00000000e+00,   1.00000000e+00,   1.00000000e+00, ...,\n",
       "          2.11700000e+03,   2.11700000e+03,   2.11700000e+03],\n",
       "       [  1.00000000e+00,   1.00000000e+00,   2.00000000e+00, ...,\n",
       "          2.11700000e+03,   2.11700000e+03,   2.11700000e+03],\n",
       "       ..., \n",
       "       [  3.98373700e+06,   3.98373700e+06,   3.98373700e+06, ...,\n",
       "          3.98508700e+06,   3.98508700e+06,   3.98508700e+06],\n",
       "       [  3.98373700e+06,   3.98373700e+06,   3.98373700e+06, ...,\n",
       "          3.98508700e+06,   3.98508700e+06,   3.98508700e+06],\n",
       "       [  3.98373700e+06,   3.98373700e+06,   3.98074900e+06, ...,\n",
       "          3.98508700e+06,   3.98508700e+06,   3.98508700e+06]], dtype=float32)"
      ]
     },
     "execution_count": 18,
     "metadata": {},
     "output_type": "execute_result"
    }
   ],
   "source": [
    "label_im"
   ]
  },
  {
   "cell_type": "code",
   "execution_count": 10,
   "metadata": {
    "collapsed": false
   },
   "outputs": [
    {
     "name": "stdout",
     "output_type": "stream",
     "text": [
      "got regions\n"
     ]
    }
   ],
   "source": [
    "regions = measure.regionprops(label_im.astype(np.int32))#, intensity_image=empty_ar)\n",
    "print(\"got regions\")"
   ]
  },
  {
   "cell_type": "code",
   "execution_count": 11,
   "metadata": {
    "collapsed": false
   },
   "outputs": [
    {
     "name": "stdout",
     "output_type": "stream",
     "text": [
      "(7650, 6660)\n"
     ]
    }
   ],
   "source": [
    "print(label_im.shape)\n"
   ]
  },
  {
   "cell_type": "code",
   "execution_count": 30,
   "metadata": {
    "collapsed": false
   },
   "outputs": [
    {
     "name": "stderr",
     "output_type": "stream",
     "text": [
      "C:\\Program Files\\Anaconda3\\lib\\site-packages\\rasterio\\__init__.py:160: FutureWarning: GDAL-style transforms are deprecated and will not be supported in Rasterio 1.0.\n",
      "  transform = guard_transform(transform)\n"
     ]
    }
   ],
   "source": [
    "area_array = np.copy(label_im)\n",
    "\n",
    "for r in regions:\n",
    "    segment = r.label\n",
    "    bbox = r.bbox\n",
    "    min_row, max_row, min_col, max_col = bbox\n",
    "    sub_array = np.copy(label_im[min_row:min_col, max_row:max_col]) # BEN\n",
    "    #print(\"SUB ARRAY SHAPE: \", sub_array.shape)\n",
    "    area = r.area\n",
    "    #print(area)\n",
    "\n",
    "\n",
    "    sub_array[sub_array == segment] = area\n",
    "    #print(sub_array.astype(np.int))\n",
    "\n",
    "    area_array[min_row:min_col, max_row:max_col] = sub_array\n",
    "    \n",
    "\n",
    "#area_array = np.moveaxis(area_array, 0, -1)\n",
    "with rio.open(r\"M:\\Data\\SegmentedNAIPImages\\Area1.tif\", 'w', **prof) as ras:\n",
    "    ras.write_band(1, area_array.astype(np.int32))\n"
   ]
  },
  {
   "cell_type": "code",
   "execution_count": 27,
   "metadata": {
    "collapsed": false
   },
   "outputs": [
    {
     "data": {
      "text/plain": [
       "array([[  60.,   60.,   60., ...,  138.,  138.,  138.],\n",
       "       [  60.,   60.,   60., ...,  138.,  138.,  138.],\n",
       "       [  60.,   60.,   18., ...,  138.,  138.,  138.],\n",
       "       ..., \n",
       "       [  20.,   20.,   20., ...,   28.,   28.,   28.],\n",
       "       [  20.,   20.,   20., ...,   28.,   28.,   28.],\n",
       "       [  20.,   20.,   91., ...,   28.,   28.,   28.]], dtype=float32)"
      ]
     },
     "execution_count": 27,
     "metadata": {},
     "output_type": "execute_result"
    }
   ],
   "source": [
    "label_im"
   ]
  },
  {
   "cell_type": "code",
   "execution_count": 33,
   "metadata": {
    "collapsed": false
   },
   "outputs": [],
   "source": [
    "label_im = label(bands_array_seg, connectivity=1).astype(np.float32) + 1\n",
    "\n",
    "#empty_ar = np.zeros(bands_array_seg.shape).astype(np.byte)\n",
    "\n",
    "def calculateGeometry1(seg_array, regs, attrib):\n",
    "    \n",
    "    labeled_array = label(seg_array, connectivity=1).astype(np.float32) + 1\n",
    "    \n",
    "    out_array = np.copy(labeled_array)\n",
    "\n",
    "    for r in regs:\n",
    "        segment = r.label\n",
    "        bbox = r.bbox\n",
    "        min_row, max_row, min_col, max_col = bbox\n",
    "        sub_array = labeled_array[min_row:min_col, max_row:max_col]\n",
    "        \n",
    "        if attrib.lower() == \"area\":\n",
    "            value = r.area\n",
    "        elif attrib.lower() == \"perim\":\n",
    "            value = r.perimeter\n",
    "        elif attrib.lower() == \"perc_area\":\n",
    "            value = r.extent * 100\n",
    "            \n",
    "        sub_array[sub_array == segment] = value\n",
    "        \n",
    "        out_array[min_row:min_col, max_row:max_col] = sub_array\n",
    "    \n",
    "    return out_array\n",
    "        \n",
    "def calculateGeometry(labeled_array, regs):\n",
    "    start = datetime.now()\n",
    "    # regions = measure.regionprops(labeled_array.astype(np.int32))  #, intensity_image=empty_ar)\n",
    "    # print(\"got regions\")\n",
    "\n",
    "    area_array = np.copy(labeled_array)\n",
    "    perim_array = np.copy(labeled_array)\n",
    "    ratio_area_array = np.copy(labeled_array)  # ratio area of pixels in bounding box\n",
    "\n",
    "    array_dict = {\"area\": area_array,\n",
    "                  \"perim\": perim_array,\n",
    "                  \"perc_area\": ratio_area_array}\n",
    "\n",
    "    for r in regs:\n",
    "        segment = r.label\n",
    "        bbox = r.bbox\n",
    "        min_row, max_row, min_col, max_col = bbox\n",
    "        sub_array = np.copy(labeled_array[min_row:min_col, max_row:max_col])  # BEN\n",
    "        #print(\"SUB ARRAY SHAPE: \", sub_array.shape)\n",
    "\n",
    "        values = {\"area\": r.area,\n",
    "                  \"perim\": r.perimeter,\n",
    "                  \"perc_area\": (r.extent * 100)}\n",
    "        \n",
    "        for characteristic, array in array_dict.items():\n",
    "            ch_sub_array = np.copy(sub_array)\n",
    "\n",
    "            ch_sub_array[ch_sub_array == segment] = values[characteristic]\n",
    "\n",
    "            array[min_row:min_col, max_row:max_col] = ch_sub_array\n",
    "            #print(\"label img:\",labeled_array)\n",
    "            #print(characteristic, array)\n",
    "            \n",
    "            #sub_array[sub_array == segment] = area\n",
    "            #print(sub_array.astype(np.int))\n",
    "\n",
    "            #area_array[min_row:min_col, max_row:max_col] = sub_array\n",
    "        #raise ValueError\n",
    "\n",
    "    end = datetime.now()\n",
    "    #print(\"Elapsed: \", end - start)\n",
    "    return array_dict"
   ]
  },
  {
   "cell_type": "code",
   "execution_count": 22,
   "metadata": {
    "collapsed": false
   },
   "outputs": [],
   "source": [
    "ars = calculateGeometry(label_im, regions)"
   ]
  },
  {
   "cell_type": "code",
   "execution_count": 19,
   "metadata": {
    "collapsed": false
   },
   "outputs": [
    {
     "data": {
      "text/plain": [
       "array([[  1.00000000e+00,   1.00000000e+00,   1.00000000e+00, ...,\n",
       "          2.11700000e+03,   2.11700000e+03,   2.11700000e+03],\n",
       "       [  1.00000000e+00,   1.00000000e+00,   1.00000000e+00, ...,\n",
       "          2.11700000e+03,   2.11700000e+03,   2.11700000e+03],\n",
       "       [  1.00000000e+00,   1.00000000e+00,   2.00000000e+00, ...,\n",
       "          2.11700000e+03,   2.11700000e+03,   2.11700000e+03],\n",
       "       ..., \n",
       "       [  3.98373700e+06,   3.98373700e+06,   3.98373700e+06, ...,\n",
       "          3.98508700e+06,   3.98508700e+06,   3.98508700e+06],\n",
       "       [  3.98373700e+06,   3.98373700e+06,   3.98373700e+06, ...,\n",
       "          3.98508700e+06,   3.98508700e+06,   3.98508700e+06],\n",
       "       [  3.98373700e+06,   3.98373700e+06,   3.98074900e+06, ...,\n",
       "          3.98508700e+06,   3.98508700e+06,   3.98508700e+06]], dtype=float32)"
      ]
     },
     "execution_count": 19,
     "metadata": {},
     "output_type": "execute_result"
    }
   ],
   "source": [
    "label_im"
   ]
  },
  {
   "cell_type": "code",
   "execution_count": 34,
   "metadata": {
    "collapsed": false
   },
   "outputs": [
    {
     "name": "stdout",
     "output_type": "stream",
     "text": [
      "Starting area\n"
     ]
    },
    {
     "name": "stderr",
     "output_type": "stream",
     "text": [
      "C:\\Program Files\\Anaconda3\\lib\\site-packages\\rasterio\\__init__.py:160: FutureWarning: GDAL-style transforms are deprecated and will not be supported in Rasterio 1.0.\n",
      "  transform = guard_transform(transform)\n"
     ]
    },
    {
     "name": "stdout",
     "output_type": "stream",
     "text": [
      "Starting perim\n",
      "Starting perc_area\n"
     ]
    }
   ],
   "source": [
    "for att in [\"area\", \"perim\", \"perc_area\"]:\n",
    "    print(\"Starting %s\" % att)\n",
    "    oa = calculateGeometry1(bands_array_seg, regions, att)\n",
    "\n",
    "\n",
    "    o_file = os.path.join(\"M:\\Data\\TrainingImageStack\", att + \"2.tif\")\n",
    "    with rio.open(o_file, 'w', **prof) as ras:\n",
    "        ras.write_band(1, oa.astype(np.int32))"
   ]
  },
  {
   "cell_type": "code",
   "execution_count": 62,
   "metadata": {
    "collapsed": false
   },
   "outputs": [
    {
     "data": {
      "text/plain": [
       "array([[  1.00000000e+00,   1.00000000e+00,   1.00000000e+00, ...,\n",
       "          2.11700000e+03,   2.11700000e+03,   2.11700000e+03],\n",
       "       [  1.00000000e+00,   1.00000000e+00,   1.00000000e+00, ...,\n",
       "          2.11700000e+03,   2.11700000e+03,   2.11700000e+03],\n",
       "       [  1.00000000e+00,   1.00000000e+00,   2.00000000e+00, ...,\n",
       "          2.11700000e+03,   2.11700000e+03,   2.11700000e+03],\n",
       "       ..., \n",
       "       [  3.98373700e+06,   3.98373700e+06,   3.98373700e+06, ...,\n",
       "          3.98508700e+06,   3.98508700e+06,   3.98508700e+06],\n",
       "       [  3.98373700e+06,   3.98373700e+06,   3.98373700e+06, ...,\n",
       "          3.98508700e+06,   3.98508700e+06,   3.98508700e+06],\n",
       "       [  3.98373700e+06,   3.98373700e+06,   3.98074900e+06, ...,\n",
       "          3.98508700e+06,   3.98508700e+06,   3.98508700e+06]], dtype=float32)"
      ]
     },
     "execution_count": 62,
     "metadata": {},
     "output_type": "execute_result"
    }
   ],
   "source": [
    "label_im"
   ]
  },
  {
   "cell_type": "code",
   "execution_count": 50,
   "metadata": {
    "collapsed": false
   },
   "outputs": [
    {
     "name": "stdout",
     "output_type": "stream",
     "text": [
      "area (7650, 6660)\n"
     ]
    },
    {
     "name": "stderr",
     "output_type": "stream",
     "text": [
      "C:\\Program Files\\Anaconda3\\lib\\site-packages\\rasterio\\__init__.py:160: FutureWarning: GDAL-style transforms are deprecated and will not be supported in Rasterio 1.0.\n",
      "  transform = guard_transform(transform)\n"
     ]
    },
    {
     "name": "stdout",
     "output_type": "stream",
     "text": [
      "perc_area (7650, 6660)\n",
      "perim (7650, 6660)\n"
     ]
    }
   ],
   "source": [
    "for k,v in ars.items():\n",
    "    print(k,v.shape)\n",
    "    o_file = os.path.join(\"M:\\Data\\TrainingImageStack\",k + \".tif\")\n",
    "    with rio.open(o_file, 'w', **prof) as ras:\n",
    "        ras.write_band(1, v.astype(np.int32))"
   ]
  },
  {
   "cell_type": "code",
   "execution_count": 15,
   "metadata": {
    "collapsed": false
   },
   "outputs": [
    {
     "name": "stderr",
     "output_type": "stream",
     "text": [
      "C:\\Program Files\\Anaconda3\\lib\\site-packages\\rasterio\\__init__.py:160: FutureWarning: GDAL-style transforms are deprecated and will not be supported in Rasterio 1.0.\n",
      "  transform = guard_transform(transform)\n"
     ]
    }
   ],
   "source": [
    "\n",
    "#area_array = np.moveaxis(area_array, 0, -1)\n",
    "with rio.open(r\"M:\\Data\\SegmentedNAIPImages\\Area1.tif\", 'w', **prof) as ras:\n",
    "    ras.write_band(1, ar.astype(np.int32))\n"
   ]
  },
  {
   "cell_type": "code",
   "execution_count": 32,
   "metadata": {
    "collapsed": true
   },
   "outputs": [],
   "source": [
    "gdal.Open(r\"M:\\Data\\ValleyBottoms\\Watersheds\\1407\\HRNHDPlusRasters1407\\fac.tif\")"
   ]
  },
  {
   "cell_type": "code",
   "execution_count": null,
   "metadata": {
    "collapsed": true
   },
   "outputs": [],
   "source": []
  }
 ],
 "metadata": {
  "anaconda-cloud": {},
  "kernelspec": {
   "display_name": "Python [default]",
   "language": "python",
   "name": "python3"
  },
  "language_info": {
   "codemirror_mode": {
    "name": "ipython",
    "version": 3
   },
   "file_extension": ".py",
   "mimetype": "text/x-python",
   "name": "python",
   "nbconvert_exporter": "python",
   "pygments_lexer": "ipython3",
   "version": "3.5.5"
  }
 },
 "nbformat": 4,
 "nbformat_minor": 1
}
