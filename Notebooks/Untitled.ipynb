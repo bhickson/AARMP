{
 "cells": [
  {
   "cell_type": "code",
   "execution_count": 1,
   "metadata": {
    "collapsed": true
   },
   "outputs": [],
   "source": [
    "import rasterio as rio\n",
    "import geopandas as gpd\n",
    "import os\n",
    "import numpy as np\n",
    "import pandas as pd\n",
    "import gdal, osr"
   ]
  },
  {
   "cell_type": "code",
   "execution_count": 35,
   "metadata": {
    "collapsed": false
   },
   "outputs": [],
   "source": [
    "loc_class_points = os.path.abspath(r\"M:\\Data\\inital_model_inputs\\classificationPoints.shp\")\n",
    "training_data_df = gpd.read_file(loc_class_points, crs={'init': 'epsg:26912'})"
   ]
  },
  {
   "cell_type": "code",
   "execution_count": 36,
   "metadata": {
    "collapsed": false
   },
   "outputs": [
    {
     "data": {
      "text/plain": [
       "Index(['Class', 'NAIP_FILE', 'PROJ', 'Type', 'geometry'], dtype='object')"
      ]
     },
     "execution_count": 36,
     "metadata": {},
     "output_type": "execute_result"
    }
   ],
   "source": [
    "def calculateGeom(row):\n",
    "    #print(row)\n",
    "    geom = row[\"geometry\"]\n",
    "    if row['PROJ'] == \"NAD83 / UTM zone 11N\":\n",
    "        x = geom.centroid.x\n",
    "        y = geom.centroid.y\n",
    "        point = Point(transform(utm11, utm12, x, y))\n",
    "        return point\n",
    "    else:\n",
    "        return geom\n",
    "    \n"
   ]
  },
  {
   "cell_type": "code",
   "execution_count": 3,
   "metadata": {
    "collapsed": true
   },
   "outputs": [],
   "source": [
    "def get_values(geom):\n",
    "    # print(row)\n",
    "    # geom = row['geometry']\n",
    "    x = geom.centroid.x\n",
    "    y = geom.centroid.y\n",
    "\n",
    "    values = [1,2,3,4,5,6,7,8,9,10,11,12,13,14,15,16,17,18,19,20,21,22]\n",
    "    # for raster in raster_objects:\n",
    "    # print(\"Starting Raster Extract for %s at x:%s y:%s\" % (os.path.basename(raster), str(x), str(y)))\n",
    "    # with rio.open(raster) as ras:\n",
    "    \"\"\"\n",
    "    for val in rasnaip.sample([(x, y)]):\n",
    "        values += np.ndarray.tolist(val)\n",
    "    for val in rasnaipvis.sample([(x, y)]):\n",
    "        values += np.ndarray.tolist(val)\n",
    "    for val in rasgauss.sample([(x, y)]):\n",
    "        values += np.ndarray.tolist(val)\n",
    "    for val in raslandsat.sample([(x, y)]):\n",
    "        values += np.ndarray.tolist(val)\n",
    "    for val in rasNDSI.sample([(x, y)]):\n",
    "        values += np.ndarray.tolist(val)\n",
    "    for val in rasNDWI.sample([(x, y)]):\n",
    "        values += np.ndarray.tolist(val)\n",
    "    \"\"\"\n",
    "    return pd.Series(values, index=band_order)"
   ]
  },
  {
   "cell_type": "code",
   "execution_count": 4,
   "metadata": {
    "collapsed": true
   },
   "outputs": [],
   "source": [
    "def get_projection(file):\n",
    "    ras = gdal.Open(file)\n",
    "    prj = ras.GetProjection()\n",
    "    ras = None\n",
    "\n",
    "    srs=osr.SpatialReference(wkt=prj)\n",
    "    if srs.IsProjected:\n",
    "        return srs.GetAttrValue('projcs')\n",
    "    return srs.GetAttrValue('geogcs')\n",
    "\n",
    "\n",
    "def findFile(quad_id):\n",
    "    for root, dirs, files in os.walk(naip_dir):\n",
    "        for file in files:\n",
    "            if quad_id in file:\n",
    "                fpath = os.path.join(root, file)\n",
    "                return fpath\n",
    "\n",
    "\n",
    "def set_projection(quadid):\n",
    "    naip_file = findFile(quadid)\n",
    "    proj = get_projection(naip_file)\n",
    "\n",
    "    return pd.Series([proj,naip_file])\n",
    "\n",
    "\n",
    "def getWKTfromShapefile(file):\n",
    "    driver = ogr.GetDriverByName('ESRI Shapefile')\n",
    "    dataset = driver.Open(file)\n",
    "\n",
    "    # from Layer\n",
    "    layer = dataset.GetLayer()\n",
    "    srs = layer.GetSpatialRef()\n",
    "    return srs\n"
   ]
  },
  {
   "cell_type": "code",
   "execution_count": null,
   "metadata": {
    "collapsed": true
   },
   "outputs": [],
   "source": [
    "rasters_names =['RED', 'GREEN', 'BLUE', 'NIR', 'area', 'perim', 'perc_area', 'NDVI', 'SAVI', 'OSAVI', 'MSAVI2', 'EVI2', 'L8_1', 'L8_2', 'L8_3', 'L8_4', 'L8_5', 'L8_6', 'L8_7', 'L8_8', 'L8_NDSI', 'L8_NDWI']"
   ]
  },
  {
   "cell_type": "code",
   "execution_count": null,
   "metadata": {
    "collapsed": false
   },
   "outputs": [],
   "source": [
    "training_data_df.head()"
   ]
  },
  {
   "cell_type": "code",
   "execution_count": 34,
   "metadata": {
    "collapsed": false
   },
   "outputs": [
    {
     "name": "stdout",
     "output_type": "stream",
     "text": [
      "Q:\\Arid Riparian Project\\Data\\NAIP_2015_Compressed\\m_3110930_nw_12_1_20150621.tif\n",
      "Q:\\Arid Riparian Project\\Data\\NAIP_2015_Compressed\\m_3110936_nw_12_1_20150621.tif\n",
      "Q:\\Arid Riparian Project\\Data\\NAIP_2015_Compressed\\m_3110938_se_12_1_20150621.tif\n",
      "Q:\\Arid Riparian Project\\Data\\NAIP_2015_Compressed\\m_3110944_ne_12_1_20150621.tif\n",
      "Q:\\Arid Riparian Project\\Data\\NAIP_2015_Compressed\\m_3110945_ne_12_1_20150621.tif\n",
      "Q:\\Arid Riparian Project\\Data\\NAIP_2015_Compressed\\m_3111002_ne_12_1_20150926.tif\n",
      "Q:\\Arid Riparian Project\\Data\\NAIP_2015_Compressed\\m_3111003_nw_12_1_20150926.tif\n",
      "Q:\\Arid Riparian Project\\Data\\NAIP_2015_Compressed\\m_3111005_nw_12_1_20150926.tif\n",
      "Q:\\Arid Riparian Project\\Data\\NAIP_2015_Compressed\\m_3111020_sw_12_1_20150926.tif\n",
      "Q:\\Arid Riparian Project\\Data\\NAIP_2015_Compressed\\m_3111030_nw_12_1_20150926.tif\n",
      "Q:\\Arid Riparian Project\\Data\\NAIP_2015_Compressed\\m_3111030_se_12_1_20150926.tif\n",
      "Q:\\Arid Riparian Project\\Data\\NAIP_2015_Compressed\\m_3111031_sw_12_1_20150809.tif\n",
      "Q:\\Arid Riparian Project\\Data\\NAIP_2015_Compressed\\m_3111034_sw_12_1_20150702.tif\n",
      "Q:\\Arid Riparian Project\\Data\\NAIP_2015_Compressed\\m_3111038_ne_12_1_20150926.tif\n",
      "Q:\\Arid Riparian Project\\Data\\NAIP_2015_Compressed\\m_3111039_nw_12_1_20150809.tif\n",
      "Q:\\Arid Riparian Project\\Data\\NAIP_2015_Compressed\\m_3111042_nw_12_1_20150702.tif\n",
      "Q:\\Arid Riparian Project\\Data\\NAIP_2015_Compressed\\m_3111108_nw_12_1_20150925.tif\n",
      "Q:\\Arid Riparian Project\\Data\\NAIP_2015_Compressed\\m_3111116_ne_12_1_20150809.tif\n",
      "Q:\\Arid Riparian Project\\Data\\NAIP_2015_Compressed\\m_3111118_se_12_1_20150809.tif\n",
      "Q:\\Arid Riparian Project\\Data\\NAIP_2015_Compressed\\m_3210903_se_12_1_20150613.tif\n",
      "Q:\\Arid Riparian Project\\Data\\NAIP_2015_Compressed\\m_3210906_se_12_1_20150613.tif\n",
      "Q:\\Arid Riparian Project\\Data\\NAIP_2015_Compressed\\m_3210911_nw_12_1_20150613.tif\n",
      "Q:\\Arid Riparian Project\\Data\\NAIP_2015_Compressed\\m_3210911_sw_12_1_20150613.tif\n",
      "Q:\\Arid Riparian Project\\Data\\NAIP_2015_Compressed\\m_3210929_se_12_1_20150613.tif\n",
      "Q:\\Arid Riparian Project\\Data\\NAIP_2015_Compressed\\m_3210942_ne_12_1_20150613.tif\n",
      "Q:\\Arid Riparian Project\\Data\\NAIP_2015_Compressed\\m_3210955_sw_12_1_20150613.tif\n",
      "Q:\\Arid Riparian Project\\Data\\NAIP_2015_Compressed\\m_3210956_se_12_1_20150613.tif\n",
      "Q:\\Arid Riparian Project\\Data\\NAIP_2015_Compressed\\m_3210960_sw_12_1_20150613.tif\n",
      "Q:\\Arid Riparian Project\\Data\\NAIP_2015_Compressed\\m_3211013_sw_12_1_20150528.tif\n",
      "Q:\\Arid Riparian Project\\Data\\NAIP_2015_Compressed\\m_3211025_se_12_1_20150530.tif\n",
      "Q:\\Arid Riparian Project\\Data\\NAIP_2015_Compressed\\m_3211026_sw_12_1_20150530.tif\n",
      "Q:\\Arid Riparian Project\\Data\\NAIP_2015_Compressed\\m_3211029_nw_12_1_20150528.tif\n",
      "Q:\\Arid Riparian Project\\Data\\NAIP_2015_Compressed\\m_3211033_ne_12_1_20150530.tif\n",
      "Q:\\Arid Riparian Project\\Data\\NAIP_2015_Compressed\\m_3211033_sw_12_1_20150530.tif\n",
      "Q:\\Arid Riparian Project\\Data\\NAIP_2015_Compressed\\m_3211041_nw_12_1_20150530.tif\n",
      "Q:\\Arid Riparian Project\\Data\\NAIP_2015_Compressed\\m_3211041_se_12_1_20150530.tif\n",
      "Q:\\Arid Riparian Project\\Data\\NAIP_2015_Compressed\\m_3211041_sw_12_1_20150530.tif\n",
      "Q:\\Arid Riparian Project\\Data\\NAIP_2015_Compressed\\m_3211042_se_12_1_20150530.tif\n",
      "Q:\\Arid Riparian Project\\Data\\NAIP_2015_Compressed\\m_3211042_sw_12_1_20150530.tif\n",
      "Q:\\Arid Riparian Project\\Data\\NAIP_2015_Compressed\\m_3211047_ne_12_1_20150528.tif\n",
      "Q:\\Arid Riparian Project\\Data\\NAIP_2015_Compressed\\m_3211049_ne_12_1_20150530.tif\n",
      "Q:\\Arid Riparian Project\\Data\\NAIP_2015_Compressed\\m_3211049_nw_12_1_20150530.tif\n",
      "Q:\\Arid Riparian Project\\Data\\NAIP_2015_Compressed\\m_3211049_se_12_1_20150530.tif\n",
      "Q:\\Arid Riparian Project\\Data\\NAIP_2015_Compressed\\m_3211049_sw_12_1_20150530.tif\n",
      "Q:\\Arid Riparian Project\\Data\\NAIP_2015_Compressed\\m_3211050_ne_12_1_20150530.tif\n",
      "Q:\\Arid Riparian Project\\Data\\NAIP_2015_Compressed\\m_3211050_nw_12_1_20150530.tif\n",
      "Q:\\Arid Riparian Project\\Data\\NAIP_2015_Compressed\\m_3211050_se_12_1_20150530.tif\n",
      "Q:\\Arid Riparian Project\\Data\\NAIP_2015_Compressed\\m_3211050_sw_12_1_20150530.tif\n",
      "Q:\\Arid Riparian Project\\Data\\NAIP_2015_Compressed\\m_3211057_ne_12_1_20150530.tif\n",
      "Q:\\Arid Riparian Project\\Data\\NAIP_2015_Compressed\\m_3211057_se_12_1_20150530.tif\n",
      "Q:\\Arid Riparian Project\\Data\\NAIP_2015_Compressed\\m_3211058_ne_12_1_20150530.tif\n",
      "Q:\\Arid Riparian Project\\Data\\NAIP_2015_Compressed\\m_3211058_nw_12_1_20150530.tif\n",
      "Q:\\Arid Riparian Project\\Data\\NAIP_2015_Compressed\\m_3211059_nw_12_1_20150530.tif\n",
      "Q:\\Arid Riparian Project\\Data\\NAIP_2015_Compressed\\m_3211103_ne_12_1_20150530.tif\n",
      "Q:\\Arid Riparian Project\\Data\\NAIP_2015_Compressed\\m_3211106_se_12_1_20150526.tif\n",
      "Q:\\Arid Riparian Project\\Data\\NAIP_2015_Compressed\\m_3211112_ne_12_1_20150526.tif\n",
      "Q:\\Arid Riparian Project\\Data\\NAIP_2015_Compressed\\m_3211112_nw_12_1_20150530.tif\n",
      "Q:\\Arid Riparian Project\\Data\\NAIP_2015_Compressed\\m_3211124_se_12_1_20150530.tif\n",
      "Q:\\Arid Riparian Project\\Data\\NAIP_2015_Compressed\\m_3211126_se_12_1_20150530.tif\n",
      "Q:\\Arid Riparian Project\\Data\\NAIP_2015_Compressed\\m_3211128_nw_12_1_20150530.tif\n",
      "Q:\\Arid Riparian Project\\Data\\NAIP_2015_Compressed\\m_3211129_nw_12_1_20150526.tif\n",
      "Q:\\Arid Riparian Project\\Data\\NAIP_2015_Compressed\\m_3211130_sw_12_1_20150526.tif\n",
      "Q:\\Arid Riparian Project\\Data\\NAIP_2015_Compressed\\m_3211131_sw_12_1_20150526.tif\n",
      "Q:\\Arid Riparian Project\\Data\\NAIP_2015_Compressed\\m_3211135_ne_12_1_20150530.tif\n",
      "Q:\\Arid Riparian Project\\Data\\NAIP_2015_Compressed\\m_3211135_nw_12_1_20150530.tif\n",
      "Q:\\Arid Riparian Project\\Data\\NAIP_2015_Compressed\\m_3211139_nw_12_1_20150526.tif\n",
      "Q:\\Arid Riparian Project\\Data\\NAIP_2015_Compressed\\m_3211139_sw_12_1_20150526.tif\n",
      "Q:\\Arid Riparian Project\\Data\\NAIP_2015_Compressed\\m_3211140_nw_12_1_20150530.tif\n",
      "Q:\\Arid Riparian Project\\Data\\NAIP_2015_Compressed\\m_3211140_se_12_1_20150530.tif\n",
      "Q:\\Arid Riparian Project\\Data\\NAIP_2015_Compressed\\m_3211140_sw_12_1_20150530.tif\n",
      "Q:\\Arid Riparian Project\\Data\\NAIP_2015_Compressed\\m_3211146_sw_12_1_20150526.tif\n",
      "Q:\\Arid Riparian Project\\Data\\NAIP_2015_Compressed\\m_3211147_ne_12_1_20150530.tif\n",
      "Q:\\Arid Riparian Project\\Data\\NAIP_2015_Compressed\\m_3211147_nw_12_1_20150526.tif\n",
      "Q:\\Arid Riparian Project\\Data\\NAIP_2015_Compressed\\m_3211148_ne_12_1_20150530.tif\n",
      "Q:\\Arid Riparian Project\\Data\\NAIP_2015_Compressed\\m_3211148_nw_12_1_20150530.tif\n",
      "Q:\\Arid Riparian Project\\Data\\NAIP_2015_Compressed\\m_3211148_se_12_1_20150530.tif\n",
      "Q:\\Arid Riparian Project\\Data\\NAIP_2015_Compressed\\m_3211148_sw_12_1_20150530.tif\n",
      "Q:\\Arid Riparian Project\\Data\\NAIP_2015_Compressed\\m_3211155_se_12_1_20150530.tif\n",
      "Q:\\Arid Riparian Project\\Data\\NAIP_2015_Compressed\\m_3211156_ne_12_1_20150530.tif\n",
      "Q:\\Arid Riparian Project\\Data\\NAIP_2015_Compressed\\m_3211156_se_12_1_20150530.tif\n",
      "Q:\\Arid Riparian Project\\Data\\NAIP_2015_Compressed\\m_3211164_ne_12_1_20150530.tif\n",
      "Q:\\Arid Riparian Project\\Data\\NAIP_2015_Compressed\\m_3211203_nw_12_1_20150531.tif\n",
      "Q:\\Arid Riparian Project\\Data\\NAIP_2015_Compressed\\m_3211215_sw_12_1_20150530.tif\n",
      "Q:\\Arid Riparian Project\\Data\\NAIP_2015_Compressed\\m_3211216_nw_12_1_20150530.tif\n",
      "Q:\\Arid Riparian Project\\Data\\NAIP_2015_Compressed\\m_3211217_ne_12_1_20150808.tif\n",
      "Q:\\Arid Riparian Project\\Data\\NAIP_2015_Compressed\\m_3211220_se_12_1_20150530.tif\n",
      "Q:\\Arid Riparian Project\\Data\\NAIP_2015_Compressed\\m_3211307_nw_12_1_20150808.tif\n",
      "Q:\\Arid Riparian Project\\Data\\NAIP_2015_Compressed\\m_3211313_ne_12_1_20150725.tif\n",
      "Q:\\Arid Riparian Project\\Data\\NAIP_2015_Compressed\\m_3211353_ne_12_1_20150725.tif\n",
      "Q:\\Arid Riparian Project\\Data\\NAIP_2015_Compressed\\m_3211405_nw_11_1_20150725.tif\n",
      "Q:\\Arid Riparian Project\\Data\\NAIP_2015_Compressed\\m_3211406_se_11_1_20150920.tif\n",
      "Q:\\Arid Riparian Project\\Data\\NAIP_2015_Compressed\\m_3211419_nw_11_1_20150708.tif\n",
      "Q:\\Arid Riparian Project\\Data\\NAIP_2015_Compressed\\m_3211419_se_11_1_20150714.tif\n",
      "Q:\\Arid Riparian Project\\Data\\NAIP_2015_Compressed\\m_3211420_se_11_1_20150725.tif\n",
      "Q:\\Arid Riparian Project\\Data\\NAIP_2015_Compressed\\m_3211420_sw_11_1_20150708.tif\n",
      "Q:\\Arid Riparian Project\\Data\\NAIP_2015_Compressed\\m_3211428_ne_11_1_20150725.tif\n",
      "Q:\\Arid Riparian Project\\Data\\NAIP_2015_Compressed\\m_3310915_ne_12_1_20150619.tif\n",
      "Q:\\Arid Riparian Project\\Data\\NAIP_2015_Compressed\\m_3310937_sw_12_1_20150603.tif\n",
      "Q:\\Arid Riparian Project\\Data\\NAIP_2015_Compressed\\m_3310945_ne_12_1_20150603.tif\n",
      "Q:\\Arid Riparian Project\\Data\\NAIP_2015_Compressed\\m_3310960_nw_12_1_20150603.tif\n",
      "Q:\\Arid Riparian Project\\Data\\NAIP_2015_Compressed\\m_3311016_se_12_1_20150607.tif\n",
      "Q:\\Arid Riparian Project\\Data\\NAIP_2015_Compressed\\m_3311031_se_12_1_20150607.tif\n",
      "Q:\\Arid Riparian Project\\Data\\NAIP_2015_Compressed\\m_3311033_se_12_1_20150607.tif\n",
      "Q:\\Arid Riparian Project\\Data\\NAIP_2015_Compressed\\m_3311034_sw_12_1_20150607.tif\n",
      "Q:\\Arid Riparian Project\\Data\\NAIP_2015_Compressed\\m_3311042_ne_12_1_20150607.tif\n",
      "Q:\\Arid Riparian Project\\Data\\NAIP_2015_Compressed\\m_3311042_sw_12_1_20150607.tif\n",
      "Q:\\Arid Riparian Project\\Data\\NAIP_2015_Compressed\\m_3311057_se_12_1_20150607.tif\n",
      "Q:\\Arid Riparian Project\\Data\\NAIP_2015_Compressed\\m_3311101_nw_12_1_20150529.tif\n",
      "Q:\\Arid Riparian Project\\Data\\NAIP_2015_Compressed\\m_3311106_nw_12_1_20150603.tif\n",
      "Q:\\Arid Riparian Project\\Data\\NAIP_2015_Compressed\\m_3311109_ne_12_1_20150601.tif\n",
      "Q:\\Arid Riparian Project\\Data\\NAIP_2015_Compressed\\m_3311109_nw_12_1_20150529.tif\n",
      "Q:\\Arid Riparian Project\\Data\\NAIP_2015_Compressed\\m_3311109_se_12_1_20150601.tif\n",
      "Q:\\Arid Riparian Project\\Data\\NAIP_2015_Compressed\\m_3311109_sw_12_1_20150529.tif\n",
      "Q:\\Arid Riparian Project\\Data\\NAIP_2015_Compressed\\m_3311110_se_12_1_20150601.tif\n",
      "Q:\\Arid Riparian Project\\Data\\NAIP_2015_Compressed\\m_3311110_sw_12_1_20150601.tif\n",
      "Q:\\Arid Riparian Project\\Data\\NAIP_2015_Compressed\\m_3311111_sw_12_1_20150601.tif\n",
      "Q:\\Arid Riparian Project\\Data\\NAIP_2015_Compressed\\m_3311117_ne_12_1_20150601.tif\n",
      "Q:\\Arid Riparian Project\\Data\\NAIP_2015_Compressed\\m_3311117_sw_12_1_20150529.tif\n",
      "Q:\\Arid Riparian Project\\Data\\NAIP_2015_Compressed\\m_3311118_nw_12_1_20150601.tif\n",
      "Q:\\Arid Riparian Project\\Data\\NAIP_2015_Compressed\\m_3311122_ne_12_1_20150603.tif\n",
      "Q:\\Arid Riparian Project\\Data\\NAIP_2015_Compressed\\m_3311125_ne_12_1_20150601.tif\n",
      "Q:\\Arid Riparian Project\\Data\\NAIP_2015_Compressed\\m_3311125_nw_12_1_20150529.tif\n",
      "Q:\\Arid Riparian Project\\Data\\NAIP_2015_Compressed\\m_3311125_se_12_1_20150601.tif\n",
      "Q:\\Arid Riparian Project\\Data\\NAIP_2015_Compressed\\m_3311125_sw_12_1_20150529.tif\n",
      "Q:\\Arid Riparian Project\\Data\\NAIP_2015_Compressed\\m_3311127_nw_12_1_20150601.tif\n",
      "Q:\\Arid Riparian Project\\Data\\NAIP_2015_Compressed\\m_3311133_ne_12_1_20150601.tif\n",
      "Q:\\Arid Riparian Project\\Data\\NAIP_2015_Compressed\\m_3311133_nw_12_1_20150529.tif\n",
      "Q:\\Arid Riparian Project\\Data\\NAIP_2015_Compressed\\m_3311133_se_12_1_20150601.tif\n",
      "Q:\\Arid Riparian Project\\Data\\NAIP_2015_Compressed\\m_3311133_sw_12_1_20150529.tif\n",
      "Q:\\Arid Riparian Project\\Data\\NAIP_2015_Compressed\\m_3311134_se_12_1_20150601.tif\n",
      "Q:\\Arid Riparian Project\\Data\\NAIP_2015_Compressed\\m_3311134_sw_12_1_20150601.tif\n",
      "Q:\\Arid Riparian Project\\Data\\NAIP_2015_Compressed\\m_3311135_ne_12_1_20150601.tif\n",
      "Q:\\Arid Riparian Project\\Data\\NAIP_2015_Compressed\\m_3311135_nw_12_1_20150601.tif\n",
      "Q:\\Arid Riparian Project\\Data\\NAIP_2015_Compressed\\m_3311135_sw_12_1_20150601.tif\n",
      "Q:\\Arid Riparian Project\\Data\\NAIP_2015_Compressed\\m_3311136_nw_12_1_20150529.tif\n",
      "Q:\\Arid Riparian Project\\Data\\NAIP_2015_Compressed\\m_3311136_se_12_1_20150529.tif\n",
      "Q:\\Arid Riparian Project\\Data\\NAIP_2015_Compressed\\m_3311136_sw_12_1_20150529.tif\n",
      "Q:\\Arid Riparian Project\\Data\\NAIP_2015_Compressed\\m_3311137_ne_12_1_20150603.tif\n",
      "Q:\\Arid Riparian Project\\Data\\NAIP_2015_Compressed\\m_3311137_nw_12_1_20150529.tif\n",
      "Q:\\Arid Riparian Project\\Data\\NAIP_2015_Compressed\\m_3311137_sw_12_1_20150529.tif\n",
      "Q:\\Arid Riparian Project\\Data\\NAIP_2015_Compressed\\m_3311141_ne_12_1_20150601.tif\n",
      "Q:\\Arid Riparian Project\\Data\\NAIP_2015_Compressed\\m_3311141_nw_12_1_20150529.tif\n",
      "Q:\\Arid Riparian Project\\Data\\NAIP_2015_Compressed\\m_3311141_se_12_1_20150601.tif\n",
      "Q:\\Arid Riparian Project\\Data\\NAIP_2015_Compressed\\m_3311142_ne_12_1_20150601.tif\n",
      "Q:\\Arid Riparian Project\\Data\\NAIP_2015_Compressed\\m_3311142_nw_12_1_20150601.tif\n",
      "Q:\\Arid Riparian Project\\Data\\NAIP_2015_Compressed\\m_3311142_sw_12_1_20150601.tif\n",
      "Q:\\Arid Riparian Project\\Data\\NAIP_2015_Compressed\\m_3311143_ne_12_1_20150601.tif\n",
      "Q:\\Arid Riparian Project\\Data\\NAIP_2015_Compressed\\m_3311143_nw_12_1_20150601.tif\n",
      "Q:\\Arid Riparian Project\\Data\\NAIP_2015_Compressed\\m_3311143_se_12_1_20150601.tif\n",
      "Q:\\Arid Riparian Project\\Data\\NAIP_2015_Compressed\\m_3311143_sw_12_1_20150601.tif\n",
      "Q:\\Arid Riparian Project\\Data\\NAIP_2015_Compressed\\m_3311144_se_12_1_20150529.tif\n",
      "Q:\\Arid Riparian Project\\Data\\NAIP_2015_Compressed\\m_3311145_ne_12_1_20150603.tif\n",
      "Q:\\Arid Riparian Project\\Data\\NAIP_2015_Compressed\\m_3311145_nw_12_1_20150529.tif\n",
      "Q:\\Arid Riparian Project\\Data\\NAIP_2015_Compressed\\m_3311148_sw_12_1_20150607.tif\n",
      "Q:\\Arid Riparian Project\\Data\\NAIP_2015_Compressed\\m_3311150_ne_12_1_20150601.tif\n",
      "Q:\\Arid Riparian Project\\Data\\NAIP_2015_Compressed\\m_3311150_nw_12_1_20150601.tif\n",
      "Q:\\Arid Riparian Project\\Data\\NAIP_2015_Compressed\\m_3311151_nw_12_1_20150601.tif\n",
      "Q:\\Arid Riparian Project\\Data\\NAIP_2015_Compressed\\m_3311152_ne_12_1_20150529.tif\n",
      "Q:\\Arid Riparian Project\\Data\\NAIP_2015_Compressed\\m_3311154_ne_12_1_20150603.tif\n",
      "Q:\\Arid Riparian Project\\Data\\NAIP_2015_Compressed\\m_3311210_nw_12_1_20150531.tif\n",
      "Q:\\Arid Riparian Project\\Data\\NAIP_2015_Compressed\\m_3311216_ne_12_1_20150529.tif\n",
      "Q:\\Arid Riparian Project\\Data\\NAIP_2015_Compressed\\m_3311216_nw_12_1_20150529.tif\n",
      "Q:\\Arid Riparian Project\\Data\\NAIP_2015_Compressed\\m_3311221_nw_12_1_20150529.tif\n",
      "Q:\\Arid Riparian Project\\Data\\NAIP_2015_Compressed\\m_3311221_se_12_1_20150529.tif\n",
      "Q:\\Arid Riparian Project\\Data\\NAIP_2015_Compressed\\m_3311222_ne_12_1_20150529.tif\n",
      "Q:\\Arid Riparian Project\\Data\\NAIP_2015_Compressed\\m_3311222_nw_12_1_20150529.tif\n",
      "Q:\\Arid Riparian Project\\Data\\NAIP_2015_Compressed\\m_3311222_se_12_1_20150529.tif\n",
      "Q:\\Arid Riparian Project\\Data\\NAIP_2015_Compressed\\m_3311222_sw_12_1_20150529.tif\n",
      "Q:\\Arid Riparian Project\\Data\\NAIP_2015_Compressed\\m_3311223_ne_12_1_20150529.tif\n",
      "Q:\\Arid Riparian Project\\Data\\NAIP_2015_Compressed\\m_3311223_nw_12_1_20150529.tif\n",
      "Q:\\Arid Riparian Project\\Data\\NAIP_2015_Compressed\\m_3311223_se_12_1_20150529.tif\n",
      "Q:\\Arid Riparian Project\\Data\\NAIP_2015_Compressed\\m_3311223_sw_12_1_20150529.tif\n",
      "Q:\\Arid Riparian Project\\Data\\NAIP_2015_Compressed\\m_3311224_se_12_1_20150529.tif\n",
      "Q:\\Arid Riparian Project\\Data\\NAIP_2015_Compressed\\m_3311224_sw_12_1_20150529.tif\n",
      "Q:\\Arid Riparian Project\\Data\\NAIP_2015_Compressed\\m_3311229_ne_12_1_20150529.tif\n",
      "Q:\\Arid Riparian Project\\Data\\NAIP_2015_Compressed\\m_3311229_nw_12_1_20150529.tif\n",
      "Q:\\Arid Riparian Project\\Data\\NAIP_2015_Compressed\\m_3311229_se_12_1_20150529.tif\n",
      "Q:\\Arid Riparian Project\\Data\\NAIP_2015_Compressed\\m_3311230_ne_12_1_20150529.tif\n",
      "Q:\\Arid Riparian Project\\Data\\NAIP_2015_Compressed\\m_3311230_nw_12_1_20150529.tif\n",
      "Q:\\Arid Riparian Project\\Data\\NAIP_2015_Compressed\\m_3311230_se_12_1_20150529.tif\n",
      "Q:\\Arid Riparian Project\\Data\\NAIP_2015_Compressed\\m_3311230_sw_12_1_20150529.tif\n",
      "Q:\\Arid Riparian Project\\Data\\NAIP_2015_Compressed\\m_3311231_ne_12_1_20150529.tif\n",
      "Q:\\Arid Riparian Project\\Data\\NAIP_2015_Compressed\\m_3311231_nw_12_1_20150529.tif\n",
      "Q:\\Arid Riparian Project\\Data\\NAIP_2015_Compressed\\m_3311231_se_12_1_20150529.tif\n",
      "Q:\\Arid Riparian Project\\Data\\NAIP_2015_Compressed\\m_3311231_sw_12_1_20150529.tif\n",
      "Q:\\Arid Riparian Project\\Data\\NAIP_2015_Compressed\\m_3311232_ne_12_1_20150529.tif\n",
      "Q:\\Arid Riparian Project\\Data\\NAIP_2015_Compressed\\m_3311232_nw_12_1_20150529.tif\n",
      "Q:\\Arid Riparian Project\\Data\\NAIP_2015_Compressed\\m_3311232_se_12_1_20150529.tif\n",
      "Q:\\Arid Riparian Project\\Data\\NAIP_2015_Compressed\\m_3311232_sw_12_1_20150529.tif\n",
      "Q:\\Arid Riparian Project\\Data\\NAIP_2015_Compressed\\m_3311233_se_12_1_20150531.tif\n",
      "Q:\\Arid Riparian Project\\Data\\NAIP_2015_Compressed\\m_3311234_sw_12_1_20150531.tif\n",
      "Q:\\Arid Riparian Project\\Data\\NAIP_2015_Compressed\\m_3311236_se_12_1_20150531.tif\n",
      "Q:\\Arid Riparian Project\\Data\\NAIP_2015_Compressed\\m_3311236_sw_12_1_20150531.tif\n",
      "Q:\\Arid Riparian Project\\Data\\NAIP_2015_Compressed\\m_3311237_ne_12_1_20150529.tif\n",
      "Q:\\Arid Riparian Project\\Data\\NAIP_2015_Compressed\\m_3311237_se_12_1_20150529.tif\n",
      "Q:\\Arid Riparian Project\\Data\\NAIP_2015_Compressed\\m_3311238_ne_12_1_20150529.tif\n",
      "Q:\\Arid Riparian Project\\Data\\NAIP_2015_Compressed\\m_3311238_nw_12_1_20150529.tif\n",
      "Q:\\Arid Riparian Project\\Data\\NAIP_2015_Compressed\\m_3311238_sw_12_1_20150529.tif\n",
      "Q:\\Arid Riparian Project\\Data\\NAIP_2015_Compressed\\m_3311239_ne_12_1_20150529.tif\n",
      "Q:\\Arid Riparian Project\\Data\\NAIP_2015_Compressed\\m_3311239_nw_12_1_20150529.tif\n",
      "Q:\\Arid Riparian Project\\Data\\NAIP_2015_Compressed\\m_3311239_se_12_1_20150529.tif\n",
      "Q:\\Arid Riparian Project\\Data\\NAIP_2015_Compressed\\m_3311240_ne_12_1_20150529.tif\n",
      "Q:\\Arid Riparian Project\\Data\\NAIP_2015_Compressed\\m_3311240_se_12_1_20150529.tif\n",
      "Q:\\Arid Riparian Project\\Data\\NAIP_2015_Compressed\\m_3311240_sw_12_1_20150529.tif\n",
      "Q:\\Arid Riparian Project\\Data\\NAIP_2015_Compressed\\m_3311241_nw_12_1_20150531.tif\n",
      "Q:\\Arid Riparian Project\\Data\\NAIP_2015_Compressed\\m_3311242_nw_12_1_20150531.tif\n",
      "Q:\\Arid Riparian Project\\Data\\NAIP_2015_Compressed\\m_3311248_sw_12_1_20150529.tif\n",
      "Q:\\Arid Riparian Project\\Data\\NAIP_2015_Compressed\\m_3311257_ne_12_1_20150531.tif\n",
      "Q:\\Arid Riparian Project\\Data\\NAIP_2015_Compressed\\m_3311259_nw_12_1_20150531.tif\n",
      "Q:\\Arid Riparian Project\\Data\\NAIP_2015_Compressed\\m_3311261_nw_12_1_20150529.tif\n",
      "Q:\\Arid Riparian Project\\Data\\NAIP_2015_Compressed\\m_3311263_nw_12_1_20150529.tif\n",
      "Q:\\Arid Riparian Project\\Data\\NAIP_2015_Compressed\\m_3311307_ne_12_1_20150531.tif\n",
      "Q:\\Arid Riparian Project\\Data\\NAIP_2015_Compressed\\m_3311307_nw_12_1_20150531.tif\n",
      "Q:\\Arid Riparian Project\\Data\\NAIP_2015_Compressed\\m_3311307_se_12_1_20150531.tif\n",
      "Q:\\Arid Riparian Project\\Data\\NAIP_2015_Compressed\\m_3311316_ne_12_1_20150531.tif\n",
      "Q:\\Arid Riparian Project\\Data\\NAIP_2015_Compressed\\m_3311328_ne_12_1_20150531.tif\n",
      "Q:\\Arid Riparian Project\\Data\\NAIP_2015_Compressed\\m_3311329_nw_12_1_20150531.tif\n",
      "Q:\\Arid Riparian Project\\Data\\NAIP_2015_Compressed\\m_3311344_nw_12_1_20150531.tif\n",
      "Q:\\Arid Riparian Project\\Data\\NAIP_2015_Compressed\\m_3311363_ne_12_1_20150531.tif\n",
      "Q:\\Arid Riparian Project\\Data\\NAIP_2015_Compressed\\m_3311414_nw_11_1_20150706.tif\n",
      "Q:\\Arid Riparian Project\\Data\\NAIP_2015_Compressed\\m_3311416_nw_11_1_20150706.tif\n",
      "Q:\\Arid Riparian Project\\Data\\NAIP_2015_Compressed\\m_3311453_ne_11_1_20150725.tif\n",
      "Q:\\Arid Riparian Project\\Data\\NAIP_2015_Compressed\\m_3410905_se_12_1_20150617.tif\n",
      "Q:\\Arid Riparian Project\\Data\\NAIP_2015_Compressed\\m_3410909_nw_12_1_20150615.tif\n",
      "Q:\\Arid Riparian Project\\Data\\NAIP_2015_Compressed\\m_3410917_nw_12_1_20150615.tif\n",
      "Q:\\Arid Riparian Project\\Data\\NAIP_2015_Compressed\\m_3410930_sw_12_1_20150617.tif\n",
      "Q:\\Arid Riparian Project\\Data\\NAIP_2015_Compressed\\m_3410942_nw_12_1_20150615.tif\n",
      "Q:\\Arid Riparian Project\\Data\\NAIP_2015_Compressed\\m_3410953_se_12_1_20150618.tif\n",
      "Q:\\Arid Riparian Project\\Data\\NAIP_2015_Compressed\\m_3410957_ne_12_1_20150617.tif\n",
      "Q:\\Arid Riparian Project\\Data\\NAIP_2015_Compressed\\m_3410958_nw_12_1_20150617.tif\n",
      "Q:\\Arid Riparian Project\\Data\\NAIP_2015_Compressed\\m_3410962_ne_12_1_20150618.tif\n",
      "Q:\\Arid Riparian Project\\Data\\NAIP_2015_Compressed\\m_3411004_se_12_1_20150602.tif\n",
      "Q:\\Arid Riparian Project\\Data\\NAIP_2015_Compressed\\m_3411006_nw_12_1_20150602.tif\n",
      "Q:\\Arid Riparian Project\\Data\\NAIP_2015_Compressed\\m_3411007_se_12_1_20150602.tif\n",
      "Q:\\Arid Riparian Project\\Data\\NAIP_2015_Compressed\\m_3411014_ne_12_1_20150602.tif\n",
      "Q:\\Arid Riparian Project\\Data\\NAIP_2015_Compressed\\m_3411017_se_12_1_20150602.tif\n",
      "Q:\\Arid Riparian Project\\Data\\NAIP_2015_Compressed\\m_3411028_ne_12_1_20150602.tif\n",
      "Q:\\Arid Riparian Project\\Data\\NAIP_2015_Compressed\\m_3411031_ne_12_1_20150602.tif\n",
      "Q:\\Arid Riparian Project\\Data\\NAIP_2015_Compressed\\m_3411036_sw_12_1_20150602.tif\n",
      "Q:\\Arid Riparian Project\\Data\\NAIP_2015_Compressed\\m_3411043_ne_12_1_20150602.tif\n",
      "Q:\\Arid Riparian Project\\Data\\NAIP_2015_Compressed\\m_3411054_ne_12_1_20150602.tif\n",
      "Q:\\Arid Riparian Project\\Data\\NAIP_2015_Compressed\\m_3411056_ne_12_1_20150603.tif\n",
      "Q:\\Arid Riparian Project\\Data\\NAIP_2015_Compressed\\m_3411109_ne_12_1_20150601.tif\n",
      "Q:\\Arid Riparian Project\\Data\\NAIP_2015_Compressed\\m_3411110_nw_12_1_20150601.tif\n",
      "Q:\\Arid Riparian Project\\Data\\NAIP_2015_Compressed\\m_3411117_ne_12_1_20150601.tif\n",
      "Q:\\Arid Riparian Project\\Data\\NAIP_2015_Compressed\\m_3411125_ne_12_1_20150601.tif\n",
      "Q:\\Arid Riparian Project\\Data\\NAIP_2015_Compressed\\m_3411126_nw_12_1_20150601.tif\n",
      "Q:\\Arid Riparian Project\\Data\\NAIP_2015_Compressed\\m_3411126_sw_12_1_20150601.tif\n",
      "Q:\\Arid Riparian Project\\Data\\NAIP_2015_Compressed\\m_3411129_nw_12_1_20150602.tif\n",
      "Q:\\Arid Riparian Project\\Data\\NAIP_2015_Compressed\\m_3411137_sw_12_1_20150602.tif\n",
      "Q:\\Arid Riparian Project\\Data\\NAIP_2015_Compressed\\m_3411138_sw_12_1_20150602.tif\n",
      "Q:\\Arid Riparian Project\\Data\\NAIP_2015_Compressed\\m_3411146_se_12_1_20150602.tif\n",
      "Q:\\Arid Riparian Project\\Data\\NAIP_2015_Compressed\\m_3411147_sw_12_1_20150602.tif\n",
      "Q:\\Arid Riparian Project\\Data\\NAIP_2015_Compressed\\m_3411154_nw_12_1_20150602.tif\n",
      "Q:\\Arid Riparian Project\\Data\\NAIP_2015_Compressed\\m_3411155_ne_12_1_20150602.tif\n",
      "Q:\\Arid Riparian Project\\Data\\NAIP_2015_Compressed\\m_3411205_nw_12_1_20150601.tif\n",
      "Q:\\Arid Riparian Project\\Data\\NAIP_2015_Compressed\\m_3411217_ne_12_1_20150530.tif\n",
      "Q:\\Arid Riparian Project\\Data\\NAIP_2015_Compressed\\m_3411220_sw_12_1_20150530.tif\n",
      "Q:\\Arid Riparian Project\\Data\\NAIP_2015_Compressed\\m_3411222_se_12_1_20150528.tif\n",
      "Q:\\Arid Riparian Project\\Data\\NAIP_2015_Compressed\\m_3411222_sw_12_1_20150601.tif\n",
      "Q:\\Arid Riparian Project\\Data\\NAIP_2015_Compressed\\m_3411224_ne_12_1_20150528.tif\n",
      "Q:\\Arid Riparian Project\\Data\\NAIP_2015_Compressed\\m_3411229_nw_12_1_20150601.tif\n",
      "Q:\\Arid Riparian Project\\Data\\NAIP_2015_Compressed\\m_3411230_ne_12_1_20150528.tif\n",
      "Q:\\Arid Riparian Project\\Data\\NAIP_2015_Compressed\\m_3411230_nw_12_1_20150601.tif\n",
      "Q:\\Arid Riparian Project\\Data\\NAIP_2015_Compressed\\m_3411236_nw_12_1_20150530.tif\n",
      "Q:\\Arid Riparian Project\\Data\\NAIP_2015_Compressed\\m_3411236_sw_12_1_20150530.tif\n",
      "Q:\\Arid Riparian Project\\Data\\NAIP_2015_Compressed\\m_3411239_sw_12_1_20150528.tif\n",
      "Q:\\Arid Riparian Project\\Data\\NAIP_2015_Compressed\\m_3411248_nw_12_1_20150528.tif\n",
      "Q:\\Arid Riparian Project\\Data\\NAIP_2015_Compressed\\m_3411250_ne_12_1_20150530.tif\n",
      "Q:\\Arid Riparian Project\\Data\\NAIP_2015_Compressed\\m_3411306_nw_12_1_20150530.tif\n",
      "Q:\\Arid Riparian Project\\Data\\NAIP_2015_Compressed\\m_3411306_sw_12_1_20150531.tif\n",
      "Q:\\Arid Riparian Project\\Data\\NAIP_2015_Compressed\\m_3411307_se_12_1_20150530.tif\n",
      "Q:\\Arid Riparian Project\\Data\\NAIP_2015_Compressed\\m_3411314_se_12_1_20150530.tif\n",
      "Q:\\Arid Riparian Project\\Data\\NAIP_2015_Compressed\\m_3411315_sw_12_1_20150530.tif\n",
      "Q:\\Arid Riparian Project\\Data\\NAIP_2015_Compressed\\m_3411355_sw_12_1_20150530.tif\n",
      "Q:\\Arid Riparian Project\\Data\\NAIP_2015_Compressed\\m_3411430_sw_11_1_20150605.tif\n",
      "Q:\\Arid Riparian Project\\Data\\NAIP_2015_Compressed\\m_3411438_nw_11_1_20150605.tif\n",
      "Q:\\Arid Riparian Project\\Data\\NAIP_2015_Compressed\\m_3411439_se_11_1_20150606.tif\n",
      "Q:\\Arid Riparian Project\\Data\\NAIP_2015_Compressed\\m_3510902_ne_12_1_20150620.tif\n",
      "Q:\\Arid Riparian Project\\Data\\NAIP_2015_Compressed\\m_3510902_se_12_1_20150620.tif\n",
      "Q:\\Arid Riparian Project\\Data\\NAIP_2015_Compressed\\m_3510909_nw_12_1_20150620.tif\n",
      "Q:\\Arid Riparian Project\\Data\\NAIP_2015_Compressed\\m_3510915_se_12_1_20150620.tif\n",
      "Q:\\Arid Riparian Project\\Data\\NAIP_2015_Compressed\\m_3510929_nw_12_1_20150620.tif\n",
      "Q:\\Arid Riparian Project\\Data\\NAIP_2015_Compressed\\m_3510952_se_12_1_20150620.tif\n",
      "Q:\\Arid Riparian Project\\Data\\NAIP_2015_Compressed\\m_3510953_ne_12_1_20150620.tif\n",
      "Q:\\Arid Riparian Project\\Data\\NAIP_2015_Compressed\\m_3510957_sw_12_1_20150620.tif\n",
      "Q:\\Arid Riparian Project\\Data\\NAIP_2015_Compressed\\m_3510960_ne_12_1_20150620.tif\n",
      "Q:\\Arid Riparian Project\\Data\\NAIP_2015_Compressed\\m_3511018_se_12_1_20150607.tif\n",
      "Q:\\Arid Riparian Project\\Data\\NAIP_2015_Compressed\\m_3511033_se_12_1_20150607.tif\n",
      "Q:\\Arid Riparian Project\\Data\\NAIP_2015_Compressed\\m_3511033_sw_12_1_20150607.tif\n",
      "Q:\\Arid Riparian Project\\Data\\NAIP_2015_Compressed\\m_3511043_ne_12_1_20150607.tif\n",
      "Q:\\Arid Riparian Project\\Data\\NAIP_2015_Compressed\\m_3511105_sw_12_1_20150607.tif\n",
      "Q:\\Arid Riparian Project\\Data\\NAIP_2015_Compressed\\m_3511141_sw_12_1_20150717.tif\n",
      "Q:\\Arid Riparian Project\\Data\\NAIP_2015_Compressed\\m_3511142_se_12_1_20150618.tif\n",
      "Q:\\Arid Riparian Project\\Data\\NAIP_2015_Compressed\\m_3511143_sw_12_1_20150617.tif\n",
      "Q:\\Arid Riparian Project\\Data\\NAIP_2015_Compressed\\m_3511144_se_12_1_20150617.tif\n",
      "Q:\\Arid Riparian Project\\Data\\NAIP_2015_Compressed\\m_3511149_ne_12_1_20150618.tif\n",
      "Q:\\Arid Riparian Project\\Data\\NAIP_2015_Compressed\\m_3511150_nw_12_1_20150618.tif\n",
      "Q:\\Arid Riparian Project\\Data\\NAIP_2015_Compressed\\m_3511151_ne_12_1_20150617.tif\n",
      "Q:\\Arid Riparian Project\\Data\\NAIP_2015_Compressed\\m_3511152_nw_12_1_20150617.tif\n",
      "Q:\\Arid Riparian Project\\Data\\NAIP_2015_Compressed\\m_3511202_ne_12_1_20150601.tif\n",
      "Q:\\Arid Riparian Project\\Data\\NAIP_2015_Compressed\\m_3511206_nw_12_1_20150602.tif\n",
      "Q:\\Arid Riparian Project\\Data\\NAIP_2015_Compressed\\m_3511219_sw_12_1_20150601.tif\n",
      "Q:\\Arid Riparian Project\\Data\\NAIP_2015_Compressed\\m_3511242_se_12_1_20150601.tif\n",
      "Q:\\Arid Riparian Project\\Data\\NAIP_2015_Compressed\\m_3511243_sw_12_1_20150601.tif\n",
      "Q:\\Arid Riparian Project\\Data\\NAIP_2015_Compressed\\m_3511326_ne_12_1_20150529.tif\n",
      "Q:\\Arid Riparian Project\\Data\\NAIP_2015_Compressed\\m_3511332_nw_12_1_20150601.tif\n",
      "Q:\\Arid Riparian Project\\Data\\NAIP_2015_Compressed\\m_3511335_ne_12_1_20150529.tif\n",
      "Q:\\Arid Riparian Project\\Data\\NAIP_2015_Compressed\\m_3511336_sw_12_1_20150529.tif\n",
      "Q:\\Arid Riparian Project\\Data\\NAIP_2015_Compressed\\m_3511341_se_12_1_20150528.tif\n",
      "Q:\\Arid Riparian Project\\Data\\NAIP_2015_Compressed\\m_3511341_sw_12_1_20150528.tif\n",
      "Q:\\Arid Riparian Project\\Data\\NAIP_2015_Compressed\\m_3511350_se_12_1_20150529.tif\n",
      "Q:\\Arid Riparian Project\\Data\\NAIP_2015_Compressed\\m_3511356_sw_12_1_20150601.tif\n",
      "Q:\\Arid Riparian Project\\Data\\NAIP_2015_Compressed\\m_3511404_nw_11_1_20150528.tif\n",
      "Q:\\Arid Riparian Project\\Data\\NAIP_2015_Compressed\\m_3511408_sw_11_1_20150528.tif\n",
      "Q:\\Arid Riparian Project\\Data\\NAIP_2015_Compressed\\m_3511430_se_11_1_20150528.tif\n",
      "Q:\\Arid Riparian Project\\Data\\NAIP_2015_Compressed\\m_3511446_se_11_1_20150528.tif\n",
      "Q:\\Arid Riparian Project\\Data\\NAIP_2015_Compressed\\m_3511452_se_11_1_20150528.tif\n",
      "Q:\\Arid Riparian Project\\Data\\NAIP_2015_Compressed\\m_3511455_nw_11_1_20150528.tif\n",
      "Q:\\Arid Riparian Project\\Data\\NAIP_2015_Compressed\\m_3511455_se_11_1_20150528.tif\n",
      "Q:\\Arid Riparian Project\\Data\\NAIP_2015_Compressed\\m_3511456_ne_11_1_20150528.tif\n",
      "Q:\\Arid Riparian Project\\Data\\NAIP_2015_Compressed\\m_3511456_nw_11_1_20150528.tif\n",
      "Q:\\Arid Riparian Project\\Data\\NAIP_2015_Compressed\\m_3511456_se_11_1_20150528.tif\n",
      "Q:\\Arid Riparian Project\\Data\\NAIP_2015_Compressed\\m_3511456_sw_11_1_20150528.tif\n",
      "Q:\\Arid Riparian Project\\Data\\NAIP_2015_Compressed\\m_3610903_ne_12_1_20150608.tif\n",
      "Q:\\Arid Riparian Project\\Data\\NAIP_2015_Compressed\\m_3610906_ne_12_1_20150617.tif\n",
      "Q:\\Arid Riparian Project\\Data\\NAIP_2015_Compressed\\m_3610911_sw_12_1_20150608.tif\n",
      "Q:\\Arid Riparian Project\\Data\\NAIP_2015_Compressed\\m_3610920_ne_12_1_20150608.tif\n",
      "Q:\\Arid Riparian Project\\Data\\NAIP_2015_Compressed\\m_3610934_ne_12_1_20150608.tif\n",
      "Q:\\Arid Riparian Project\\Data\\NAIP_2015_Compressed\\m_3611003_se_12_1_20150618.tif\n",
      "Q:\\Arid Riparian Project\\Data\\NAIP_2015_Compressed\\m_3611036_sw_12_1_20150615.tif\n",
      "Q:\\Arid Riparian Project\\Data\\NAIP_2015_Compressed\\m_3611048_nw_12_1_20150618.tif\n",
      "Q:\\Arid Riparian Project\\Data\\NAIP_2015_Compressed\\m_3611052_sw_12_1_20150615.tif\n",
      "Q:\\Arid Riparian Project\\Data\\NAIP_2015_Compressed\\m_3611061_se_12_1_20150618.tif\n",
      "Q:\\Arid Riparian Project\\Data\\NAIP_2015_Compressed\\m_3611103_nw_12_1_20150604.tif\n",
      "Q:\\Arid Riparian Project\\Data\\NAIP_2015_Compressed\\m_3611104_se_12_1_20150604.tif\n",
      "Q:\\Arid Riparian Project\\Data\\NAIP_2015_Compressed\\m_3611105_sw_12_1_20150604.tif\n",
      "Q:\\Arid Riparian Project\\Data\\NAIP_2015_Compressed\\m_3611164_sw_12_1_20150528.tif\n",
      "Q:\\Arid Riparian Project\\Data\\NAIP_2015_Compressed\\m_3611207_nw_12_1_20150603.tif\n",
      "Q:\\Arid Riparian Project\\Data\\NAIP_2015_Compressed\\m_3611211_nw_12_1_20150603.tif\n",
      "Q:\\Arid Riparian Project\\Data\\NAIP_2015_Compressed\\m_3611228_ne_12_1_20150603.tif\n",
      "Q:\\Arid Riparian Project\\Data\\NAIP_2015_Compressed\\m_3611254_ne_12_1_20150603.tif\n",
      "Q:\\Arid Riparian Project\\Data\\NAIP_2015_Compressed\\m_3611262_se_12_1_20150603.tif\n",
      "Q:\\Arid Riparian Project\\Data\\NAIP_2015_Compressed\\m_3611311_se_12_1_20150603.tif\n",
      "Q:\\Arid Riparian Project\\Data\\NAIP_2015_Compressed\\m_3611319_ne_12_1_20150603.tif\n",
      "Q:\\Arid Riparian Project\\Data\\NAIP_2015_Compressed\\m_3611325_sw_12_1_20150530.tif\n",
      "Q:\\Arid Riparian Project\\Data\\NAIP_2015_Compressed\\m_3611336_nw_12_1_20150616.tif\n",
      "Q:\\Arid Riparian Project\\Data\\NAIP_2015_Compressed\\m_3611348_ne_12_1_20150607.tif\n",
      "Q:\\Arid Riparian Project\\Data\\NAIP_2015_Compressed\\m_3611358_sw_12_1_20150608.tif\n"
     ]
    }
   ],
   "source": [
    "band_order = ['RED', 'GREEN', 'BLUE', 'NIR', 'area', 'perim', 'perc_area', 'MSAVI2', 'OSAVI', 'SAVI', 'EVI2', 'NDVI', 'L8_1', 'L8_2', 'L8_3', 'L8_4', 'L8_5', 'L8_6', 'L8_7', 'L8_8', 'L8_NDSI', 'L8_NDWI']\n",
    "\n",
    "for type, group in training_data_df.groupby(\"NAIP_FILE\"):\n",
    "    print(type)            \n",
    "    loc_NAIPFile = r\"Q:\\Arid Riparian Project\\Data\\NAIP_2015_Compressed\\m_3311414_nw_11_1_20150706.tif\"\n",
    "    #band_order = band_order[::-1]\n",
    "    #training_data_df.loc[training_data_df.NAIP_FILE == loc_NAIPFile, band_order] = \\\n",
    "    #    training_data_df.loc[training_data_df.NAIP_FILE == loc_NAIPFile, \"geometry\"].apply(get_values)"
   ]
  },
  {
   "cell_type": "code",
   "execution_count": 32,
   "metadata": {
    "collapsed": false
   },
   "outputs": [
    {
     "name": "stdout",
     "output_type": "stream",
     "text": [
      "Q:\\Arid Riparian Project\\Data\\NAIP_2015_Compressed\\m_3210906_se_12_1_20150613.tif\n"
     ]
    }
   ],
   "source": [
    "#print(training_data_df.columns)\n",
    "print(training_data_df.iloc[0][\"NAIP_FILE\"])"
   ]
  },
  {
   "cell_type": "code",
   "execution_count": null,
   "metadata": {
    "collapsed": false
   },
   "outputs": [],
   "source": [
    "training_data_df.loc[training_data_df.NAIP_FILE == loc_NAIPFile, rasters_names].head()"
   ]
  },
  {
   "cell_type": "markdown",
   "metadata": {},
   "source": [
    "-----------------------------------------------"
   ]
  },
  {
   "cell_type": "code",
   "execution_count": null,
   "metadata": {
    "collapsed": false
   },
   "outputs": [],
   "source": [
    "naip_dir = r\"Q:\\Arid Riparian Project\\Data\\NAIP_2015_Compressed\"\n",
    "loc_classificationPolys = \"M:\\Data\\inital_model_inputs\\classificationTrainingPolygons.shp\"\n",
    "classification_polys_df = gpd.read_file(loc_classificationPolys)"
   ]
  },
  {
   "cell_type": "code",
   "execution_count": null,
   "metadata": {
    "collapsed": false
   },
   "outputs": [],
   "source": [
    "loc_usgs_qquads = r\"M:\\Data\\inital_model_inputs\\USGS_QQuads_AZ.shp\"\n",
    "usgs_azqquads = gpd.read_file(loc_usgs_qquads)"
   ]
  },
  {
   "cell_type": "code",
   "execution_count": null,
   "metadata": {
    "collapsed": false
   },
   "outputs": [],
   "source": [
    "print(\"Reprojecting quarter quads...\")\n",
    "usgs_azqquads_26912 = usgs_azqquads.copy()\n",
    "\n",
    "usgs_azqquads_26912.to_crs(classification_polys_df.crs, inplace=True)\n"
   ]
  },
  {
   "cell_type": "code",
   "execution_count": null,
   "metadata": {
    "collapsed": false
   },
   "outputs": [],
   "source": [
    "classification_polys_df.head()"
   ]
  },
  {
   "cell_type": "code",
   "execution_count": null,
   "metadata": {
    "collapsed": false,
    "scrolled": true
   },
   "outputs": [],
   "source": [
    "print(\"Starting file and projection association to quarter quad data frame...\")\n",
    "usgs_azqquads_26912[[\"PROJ\",\"NAIP_FILE\"]] = usgs_azqquads_26912['QUADID'].apply(set_projection)"
   ]
  },
  {
   "cell_type": "code",
   "execution_count": null,
   "metadata": {
    "collapsed": false
   },
   "outputs": [],
   "source": [
    "print(\"Starting point to quarter quad join...\")\n",
    "polysinQQuads = gpd.sjoin(classification_polys_df, usgs_azqquads_26912, op='within')"
   ]
  },
  {
   "cell_type": "code",
   "execution_count": null,
   "metadata": {
    "collapsed": false
   },
   "outputs": [],
   "source": [
    "columns_to_keep = ['geometry', 'Type', 'PROJ', 'NAIP_FILE']\n",
    "drop_columns = polysinQQuads.columns.tolist()\n",
    "for c in columns_to_keep:\n",
    "    drop_columns.remove(c)\n",
    "\n",
    "polysinQQuads.drop(drop_columns, axis=1, inplace=True)\n"
   ]
  },
  {
   "cell_type": "code",
   "execution_count": null,
   "metadata": {
    "collapsed": false
   },
   "outputs": [],
   "source": [
    "for type, group in polysinQQuads.groupby(\"Type\"):\n",
    "    "
   ]
  },
  {
   "cell_type": "code",
   "execution_count": null,
   "metadata": {
    "collapsed": false
   },
   "outputs": [],
   "source": [
    "joindf = gpd.read_file(r\"M:\\Data\\inital_model_inputs\\classificationTrainingPolygons_join.shp\")"
   ]
  },
  {
   "cell_type": "code",
   "execution_count": null,
   "metadata": {
    "collapsed": false
   },
   "outputs": [],
   "source": [
    "joindf.head()"
   ]
  },
  {
   "cell_type": "code",
   "execution_count": null,
   "metadata": {
    "collapsed": false
   },
   "outputs": [],
   "source": [
    "\n",
    "polys = r\"M:\\Data\\inital_model_inputs\\classificationTrainingPolygons_join.shp\"\n",
    "with fiona.open(polys, 'r') as vector:\n",
    "    print(\"NUM POLY FEATURES: \", len(vector))\n",
    "    for feature in vector:\n",
    "        print(feature['properties']['NAIP_FILE'])\n",
    "        break\n",
    "    "
   ]
  },
  {
   "cell_type": "code",
   "execution_count": null,
   "metadata": {
    "collapsed": true
   },
   "outputs": [],
   "source": []
  }
 ],
 "metadata": {
  "anaconda-cloud": {},
  "kernelspec": {
   "display_name": "Python [conda env:Anaconda3]",
   "language": "python",
   "name": "conda-env-Anaconda3-py"
  },
  "language_info": {
   "codemirror_mode": {
    "name": "ipython",
    "version": 3
   },
   "file_extension": ".py",
   "mimetype": "text/x-python",
   "name": "python",
   "nbconvert_exporter": "python",
   "pygments_lexer": "ipython3",
   "version": "3.5.5"
  }
 },
 "nbformat": 4,
 "nbformat_minor": 1
}
